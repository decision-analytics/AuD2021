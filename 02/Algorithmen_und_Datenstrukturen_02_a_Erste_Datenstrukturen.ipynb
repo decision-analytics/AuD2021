{
 "cells": [
  {
   "cell_type": "markdown",
   "metadata": {
    "slideshow": {
     "slide_type": "slide"
    }
   },
   "source": [
    "<img src=\"./img/logo_wiwi.png\" width=\"23%\" align=\"left\">\n",
    "<img src=\"./img/decision_analytics_logo.png\" width=\"17%\" align=\"right\">\n",
    "\n",
    "<br><br><br><br>\n",
    "\n",
    "\n",
    "## Algorithmen und Datenstrukturen\n",
    "Wintersemester 2021/22\n",
    "\n",
    "\n",
    "# 2 a) Grundlegende Datenstrukturen\n",
    "\n",
    "\n",
    "<br><br><br>\n",
    "J-Prof. Dr. Michael Römer, Till Porrmann "
   ]
  },
  {
   "cell_type": "markdown",
   "metadata": {
    "cell_style": "center",
    "slideshow": {
     "slide_type": "slide"
    }
   },
   "source": [
    "## Überblick\n",
    "\n",
    "#### 2 a) Grundlegende Datenstrukturen\n",
    "1. Was sind Datenstrukturen?\n",
    "2. Funktionsweise des Arbeitsspeichers\n",
    "3. Arrays und Linked Lists\n",
    "\n",
    "#### 2 b) Selection Sort\n",
    "4. Der Selection-Sort-Algorithmus\n",
    "5. Python Implementierung von Selectionsort"
   ]
  },
  {
   "cell_type": "markdown",
   "metadata": {
    "slideshow": {
     "slide_type": "slide"
    }
   },
   "source": [
    "## 1. Was sind Datenstrukturen?"
   ]
  },
  {
   "cell_type": "markdown",
   "metadata": {
    "slideshow": {
     "slide_type": "slide"
    }
   },
   "source": [
    "## Was sind Datenstrukturen?"
   ]
  },
  {
   "cell_type": "markdown",
   "metadata": {
    "slideshow": {
     "slide_type": "-"
    }
   },
   "source": [
    "### Definition\n",
    "\n",
    "Eine Datenstruktur ist ein Objekt, welches zur **Speicherung** und **Organisation** von **Daten** dient.\n",
    "\n",
    "- **Daten**: es werden Datenobjekte betrachtet (nicht auf spezielle Datentypen beschränkt).\n",
    "- **Speicherung**: Diese Daten werden in einer festgelegten Form auf einem Medium gespeichert.\n",
    "- **Organisation**: Von dort aus können sie abgerufen und verändert werden."
   ]
  },
  {
   "cell_type": "markdown",
   "metadata": {
    "slideshow": {
     "slide_type": "slide"
    }
   },
   "source": [
    "#### Datenstrukturen vs Datentypen\n",
    "\n",
    "**Datentyp:** \n",
    "- definiert Wertebereich und möglichen Operationen\n",
    "- z.B. **int**(eger): ganze Zahlen; Bsp. für Operationen: Multiplikation, Addition, Subtraktion\n",
    "\n",
    "**Datenstruktur:**\n",
    "- \"Behälter\" zur struktuierten \"Ablage\" von Werten (die einen Datentyp haben)\n",
    "- bietet Operationen zum Ablegen, Suchen, Entfernen von Werten\n",
    "- für unterschiedliche Strukturen sind diese Operationen unterschiedlich aufwendig\n",
    "- je nach Algorithmus können verschiedene Datenstrukuren vorteilhaft sein"
   ]
  },
  {
   "cell_type": "markdown",
   "metadata": {
    "slideshow": {
     "slide_type": "slide"
    }
   },
   "source": [
    "## Funktionsweise des Arbeitsspeichers"
   ]
  },
  {
   "cell_type": "markdown",
   "metadata": {
    "slideshow": {
     "slide_type": "slide"
    }
   },
   "source": [
    "## Funktionsweise des Arbeitsspeichers\n",
    "\n",
    "### Gaderobenbeispiel\n",
    "In einem Theater sollen Besucher vor der Vorstellung Gegenstände abgeben können. Dafür steht ein Schubladenschrank zur Verfügung.\n",
    "\n",
    "<img src=\"./img/01_Schrank.png\" width=\"50%\" align=\"middle\">"
   ]
  },
  {
   "cell_type": "markdown",
   "metadata": {
    "slideshow": {
     "slide_type": "slide"
    }
   },
   "source": [
    "### Gaderobenbeispiel\n",
    "Jede Schublade kann genau ein Objekt aufnehmen\n",
    "\n",
    "<img src=\"./img/02_Schubladen.png\" width=\"60%\" align=\"middle\">"
   ]
  },
  {
   "cell_type": "markdown",
   "metadata": {
    "slideshow": {
     "slide_type": "fragment"
    }
   },
   "source": [
    "In diesem Fall werden zwei Objekte gelagert\n",
    "\n",
    "<img src=\"./img/03_Schubladen_Inhalt.png\" width=\"50%\" align=\"middle\">"
   ]
  },
  {
   "cell_type": "markdown",
   "metadata": {
    "slideshow": {
     "slide_type": "slide"
    }
   },
   "source": [
    "### Parallele zum Arbeitsspeicher\n",
    "\n",
    "- Arbeitsspeicher funktioniert nach dem gleichen Prinzip: Es gibt eine riesige Menge von \"Schubladen\" \n",
    "- Jede davon hat eine eindeutige Adresse\n",
    "\n",
    "<img src=\"./img/04_Arbeitsspeicher.png\" width=\"60%\" align=\"middle\">\n",
    "\n",
    "- Ein Datenobjekt kann in einer Zelle im Arbeitsspeicher abgelegt werden\n",
    "- Wie vorgehen, wenn mehrere Objekte gespeichert werden sollen?"
   ]
  },
  {
   "cell_type": "markdown",
   "metadata": {},
   "source": [
    "## 2. Arrays und Linked Lists (Verkettete Listen)"
   ]
  },
  {
   "cell_type": "markdown",
   "metadata": {
    "slideshow": {
     "slide_type": "slide"
    }
   },
   "source": [
    "## Arrays und Linked Lists (Verkettete Listen)\n",
    "\n",
    "><div class=\"alert alert-block alert-info\">\n",
    "<b>Wie kann man mehrere zusammenhängende Elemente speichern?</b></div>\n",
    "\n",
    "- Zwei der grundlegenden Datenstrukturen sind Arrays und Linked Lists\n",
    "- Beide haben Vor- und Nachteile, insbesondere in Bezug auf die wesentlichen Operationen:\n",
    "  - Hinzufügen von Elementen\n",
    "  - Zugriff auf Elemente (insbes. Frage nach dem $n$-ten Element)\n",
    "  - Löschen von Elementen"
   ]
  },
  {
   "cell_type": "markdown",
   "metadata": {
    "slideshow": {
     "slide_type": "fragment"
    }
   },
   "source": [
    "#### Wir betrachten zur Erläuterung folgendes Beispiel:\n",
    "\n",
    "Wir wollen eine To-Do-Liste anlegen, in der wir Aufgaben speichern\n",
    "\n",
    "<img src=\"./img/05_To_do.png\" width=\"30%\" align=\"middle\">"
   ]
  },
  {
   "cell_type": "markdown",
   "metadata": {
    "cell_style": "center",
    "slideshow": {
     "slide_type": "slide"
    }
   },
   "source": [
    "### Arrays: Grundidee\n",
    "\n",
    "- Einzelne Elemente (Aufgaben) werden **zusammenhängend** (d.h. **nebeneinander**) im Speicher hinterlegt\n",
    "- die Speicherung ist sehr kompakt, die Adresse jedes einzelnen Elements kann effizient berechnet werden\n",
    "\n",
    "\n",
    "<img src=\"./img/06_To_do_Array.png\" width=\"50%\" align=\"center\">"
   ]
  },
  {
   "cell_type": "markdown",
   "metadata": {
    "slideshow": {
     "slide_type": "slide"
    }
   },
   "source": [
    "### Arrays: Hinzufügen neuer Elemente\n",
    "\n",
    "**Problem:** Was passiert, wenn wir ein Element hinzufügen wollen?\n",
    "\n",
    "<img src=\"./img/07_To_do_Array_voll.png\" width=\"50%\" align=\"center\">\n"
   ]
  },
  {
   "cell_type": "markdown",
   "metadata": {
    "slideshow": {
     "slide_type": "fragment"
    }
   },
   "source": [
    "- Wenn kein Platz mehr für ein neues Objekt ist, muss das Array \"umgesiedelt\" (Fachbegriff: neu allokiert) werden\n",
    "- Es muss ein neuer Bereich mit hinreichend großem Speicherplatz gesucht werden (im Beispiel: Platz für vier Elemente)\n",
    "- Bei jedem weiteren Objekt kann das Problem erneut auftreten, was recht aufwendig sein kann \n",
    "  - stellen Sie sich vor, sie möchten im Kino mit Ihren Freunden zusammensitzen, und jedes Mal, wenn noch jemand dazustößt, müssten Sie sich einen neuen großen Platz suchen\n",
    "\n",
    "\n",
    "><div class=\"alert alert-block alert-info\">\n",
    "<b> - Kann man das Problem umgehen / abmildern und wenn ja, wie?   \n",
    "<br>- Was \"kostet\" das, d.h. was sind Nachteile Ihres vorgeschlagenen Vorgehens? </b></div>\n",
    "\n"
   ]
  },
  {
   "cell_type": "markdown",
   "metadata": {
    "slideshow": {
     "slide_type": "slide"
    }
   },
   "source": [
    "## Linked Lists\n",
    "\n",
    "- eine \"hinzufügefreundliche\" Datenstruktur, die eine Reallokation beim Hinzufügen umgeht\n",
    "- Idee: Einzelne Elemente der Liste werden über den Speicher hinweg verteilt \n",
    "- dadurch braucht man keine großen zusammenhängenden Speicherbereich, man speichert für den Zugriff lediglich das erste (und meist auch das letzte) Element\n",
    "\n",
    "<img src=\"./img/08_To_do_List.png\" width=\"60%\" align=\"center\">"
   ]
  },
  {
   "cell_type": "markdown",
   "metadata": {
    "slideshow": {
     "slide_type": "slide"
    }
   },
   "source": [
    "## Linked Lists\n",
    "\n",
    "- um den \"logischen\" Zusammenhang der Liste sicherzustellen, speichert man **zusätzlich** zum Inhalt der Elemente die **Adresse des nächsten Elements**\n",
    "\n",
    "\n",
    "<img src=\"./img/09_To_do_List_Links.png\" width=\"50%\" align=\"middle\">"
   ]
  },
  {
   "cell_type": "markdown",
   "metadata": {
    "slideshow": {
     "slide_type": "fragment"
    }
   },
   "source": [
    "#### Nachteil:\n",
    "- Elemente sind nicht alle beieinander, man kann nicht ohne weiteres die Länge der Liste und deren Elemente (außer das erste und ggf. das letzte) sehen\n",
    "- Um spätere Elemente sehen zu können, muss man sich durch die Liste arbeiten: Vom ersten Objekt bekommt man die Adresse des zweiten, von dem die des dritten usw.\n",
    "\n"
   ]
  },
  {
   "cell_type": "markdown",
   "metadata": {
    "cell_style": "center",
    "slideshow": {
     "slide_type": "fragment"
    }
   },
   "source": [
    "## Linked Lists\n",
    "\n",
    "- um den \"logischen\" Zusammenhang der Liste sicherzustellen, speichert man **zusätzlich** zum Inhalt der Elemente die **Adresse des nächsten Elements**\n",
    "\n",
    "\n",
    "<img src=\"./img/09_To_do_List_Links.png\" width=\"50%\" align=\"center\">\n",
    "\n",
    "#### Vorteil:\n",
    "- Hinzufügen wird einfach: Ein neues Objekt kommt irgendwo in den Arbeitsspeicher und die Adresse wird im bisher letzten Element hinterlegt\n",
    "- Nie notwendig, die ganze Liste zu verschieben (einen kompletten Speicherblock zu allokieren)\n",
    "- Wenn nicht genügend zusammenhängender Speicher verfügbar (bei sehr großen Listen) kein Problem (für Arrays wäre das kritisch)"
   ]
  },
  {
   "cell_type": "markdown",
   "metadata": {
    "slideshow": {
     "slide_type": "slide"
    }
   },
   "source": [
    "## Arrays erlauben effizienten Zugriff!\n",
    "\n",
    "- Problem bei Linked Lists: Zugreifen auf Elemente weit hinten in der Liste aufwendig, da nicht klar wo es im Speicher liegt\n",
    "- stattdessen muss auf Objekt 1 zugegriffen und die Nachfolgeradresse abgefragt werden, dann auf Objekt 2 usw.\n",
    "- Hin- und herspringen in der Liste sehr \"teuer\"\n",
    "\n",
    "#### Wie ist das bei Arrays?\n",
    "- Speicherort des ersten Elements bekannt (wie bei Linked List)\n",
    "- dadurch ergeben sich alle weiteren Speicherorte, da sie in Reihenfolge nebeneinander sind\n",
    "\n",
    "<img src=\"./img/10_Arrays_Zugriff.png\" width=\"60%\" align=\"center\">"
   ]
  },
  {
   "cell_type": "markdown",
   "metadata": {
    "slideshow": {
     "slide_type": "fragment"
    }
   },
   "source": [
    "- wenn wir die Todos in Python in einem Array `todos` speichern, bekommen man z.B. das dritte Element eines Arrays mit `todos[2]` (weil wir 0-Indexierung haben; das erste Element ist `todos[0]`\n",
    "- alle Elemente sind gleich einfach zu erreichen $\\rightarrow$ für Zugriffe Arrays besser"
   ]
  },
  {
   "cell_type": "markdown",
   "metadata": {
    "slideshow": {
     "slide_type": "slide"
    }
   },
   "source": [
    "### Vergleich Arrays und Linked Lists\n",
    "\n",
    "- Arrays und Listen haben verschiedene Vor- und Nachteile\n",
    "- die richtige Auswahl hängt vom zu implementierenden Algorithmus ab\n",
    "\n",
    "<img src=\"./img/11_Vergleich_Arr_List.png\" width=\"40%\" align=\"middle\">\n",
    "\n",
    "- Für Lesen (Zugreifen) eignen sich wie bereits erläutert Arrays besser \n",
    "\n",
    "><div class=\"alert alert-block alert-info\">\n",
    "<b>Warum dauert Einfügen in ein Array $O(n)$?</b></div>"
   ]
  },
  {
   "cell_type": "markdown",
   "metadata": {
    "slideshow": {
     "slide_type": "slide"
    }
   },
   "source": [
    "## Vergleich Arrays und Linked Lists: Hinzufügen eines Elements\n",
    "\n",
    "\n",
    "##### Linked List\n",
    "- Hinzufügen  von Elementen in eine Linked List einfach:\n",
    "    1. Start der Liste ist das neue Element\n",
    "    2. Zieladresse des neuen Elements ist das alte erste Element\n",
    "- analog: Hinzufügen am Ende, wenn man das letzte Element kennt\n",
    "\n",
    "\n",
    "- Umsetzung in $O(1)$, da nicht abhängig von Länge der Liste\n",
    "\n",
    "##### Array\n",
    "- Einfügen in Array möglicherweise sehr aufwendig\n",
    "- Wenn kein Platz mehr im Array, so müssen **alle  n Elemente**  verschoben werden\n",
    "- Zeitkomplexität im Worst Case $O(n)$\n",
    "\n",
    "\n"
   ]
  },
  {
   "cell_type": "markdown",
   "metadata": {
    "slideshow": {
     "slide_type": "slide"
    }
   },
   "source": [
    "## Vergleich Arrays und Linked Lists: Einfügen in der Mitte\n",
    "\n",
    "- Beispiel Aufgabenliste von vorher, jetzt aber mit Beachtung der Reihenfolge\n",
    "\n",
    "<img src=\"./img/12_To_do_un_sortiert.png\" width=\"60%\" align=\"middle\">\n",
    "\n",
    "- Es wäre gut auch in der Mitte der Liste einfügen zu können"
   ]
  },
  {
   "cell_type": "markdown",
   "metadata": {
    "cell_style": "center",
    "slideshow": {
     "slide_type": "slide"
    }
   },
   "source": [
    "## Einfügen in der Mitte bei Linked Lists\n",
    "\n",
    "- Für Linked Lists recht einfach, nur der Adressverweis des vorherigen Elements muss geändert werden\n",
    "- ABER Vorsicht: Falls wir die Stelle, an der wir einfügen wollen, noch nicht kennen, müssen wir erst die Liste durchsuchen\n",
    "- Zugriff hat Komplexität $O(n)$\n",
    "\n",
    "<img src=\"./img/13_Lists_einfügen.png\" width=\"90%\" align=\"middle\">\n",
    "\n",
    "- Einfügen am Anfang/Ende der Liste weiterhin $O(1)$"
   ]
  },
  {
   "cell_type": "markdown",
   "metadata": {
    "slideshow": {
     "slide_type": "slide"
    }
   },
   "source": [
    "## Einfügen in der Mitte bei Arrays\n",
    "\n",
    "- Arrays haben gleiches Problem wie vorher (ggf. Verschieben des ganzen Arrays nötig)\n",
    "- Zusätzlich müssen jedes Mal alle nachfolgenden Elemente der Liste verschoben werden\n",
    "\n",
    "<img src=\"./img/14_Arrays_einfügen.png\" width=\"80%\" align=\"middle\">"
   ]
  },
  {
   "cell_type": "markdown",
   "metadata": {
    "slideshow": {
     "slide_type": "slide"
    }
   },
   "source": [
    "### Vergleich Arrays und Linked Lists: Löschen\n",
    "\n",
    "\n",
    "#### Linked Lists\n",
    "- Löschen ist \"umgekehrt\" zum Einfügen: das Element wird enfernt, indem der Verweis im vorherigen Element auf das nächste Element des zu löschenden Elements gesetzt wird\n",
    "- Aufwand analog zum Einfügen:\n",
    "    - Erstes Element kann problemlos gelöscht werden, da der Verweis für erstes Element auf das bisher zweite Element gesetzt wird\n",
    "- Bei Löschen in der Mitte der Liste muss ggf. erst das vorherige Element gefunden werden - diese Suche (der Zugriff) hat die Komplexität $O(n)$)"
   ]
  },
  {
   "cell_type": "markdown",
   "metadata": {
    "slideshow": {
     "slide_type": "fragment"
    }
   },
   "source": [
    "#### Arrays\n",
    "- Löschen erfordert kein Verschieben der ganzen Liste, da weniger Platz benötigt als vorher\n",
    "- Aber: verschieben nach vorne für alle Elemente die nach gelöschtem kommen\n",
    "- Resultiert wieder in Aufwand $O(n)$"
   ]
  },
  {
   "cell_type": "markdown",
   "metadata": {
    "slideshow": {
     "slide_type": "slide"
    }
   },
   "source": [
    "## Vergleich Arrays und Linked Lists\n",
    "\n",
    "<img src=\"./img/15_Vergleich_Übersicht.png\" width=\"50%\">\n",
    "\n",
    "- beide Datenstrukturen haben Vor- und Nachteile\n",
    "  - kommen je nach Anwendung zum Tragen\n",
    "- wichtig: \n",
    "  - die $O(1)$ bei linked lists gelten nur, wenn die entsprechenden Positionen bekannt sind (s.o.)\n",
    "  - die linked list braucht mehr Speicher, weil auch der Verweis gespeichert werden muss\n",
    "  - die konstante Zeit der Einzeloperationen sind bei Arrays oftmals geringer als bei linked lists\n",
    "\n",
    "- Listen bilden auch Grundlage für weitere Datenstrukturen (z.B. Stack, Queue,...)"
   ]
  },
  {
   "cell_type": "markdown",
   "metadata": {
    "slideshow": {
     "slide_type": "slide"
    }
   },
   "source": [
    "## Aufgabe:\n",
    "\n",
    "Nehmen wir an, Sie entwickeln eine App, mit der in Restaurants Bestellungen\n",
    "aufgenommen werden. Die App muss also eine Liste von Bestellungen\n",
    "speichern. Die Bedienungen fügen fortlaufend Bestellungen hinzu und die\n",
    "Köche entnehmen sie der Liste und bereiten sie zu. \n",
    "\n",
    "<img src=\"./img/16a_Aufgabe.png\" width=\"70%\"> <br>\n",
    "\n",
    "><div class=\"alert alert-block alert-info\">\n",
    "<b> Wäre für die Abbildung der Warteschlange eher ein Array oder eine Liste geeignet?</b></div>"
   ]
  },
  {
   "cell_type": "markdown",
   "metadata": {
    "slideshow": {
     "slide_type": "slide"
    }
   },
   "source": [
    "## Achtung: `list` in Python\n",
    "\n",
    "- Eine der wichtigsten grundlegenden Datenstrukturen in Python ist die `list`"
   ]
  },
  {
   "cell_type": "code",
   "execution_count": 2,
   "metadata": {
    "slideshow": {
     "slide_type": "-"
    }
   },
   "outputs": [
    {
     "data": {
      "text/plain": [
       "['Frühstück', 'Boccia', 'Tee trinken']"
      ]
     },
     "execution_count": 2,
     "metadata": {},
     "output_type": "execute_result"
    }
   ],
   "source": [
    "todo_liste = [\"Frühstück\", \"Boccia\"]\n",
    "todo_liste.append(\"Tee trinken\")\n",
    "todo_liste"
   ]
  },
  {
   "cell_type": "markdown",
   "metadata": {
    "slideshow": {
     "slide_type": "-"
    }
   },
   "source": [
    "- `list` hat alle wesentlichen Listen-Funktionen (`append`, `insert`, `remove`)\n",
    "   - wir sagen: sie hat die Programmierschnittstelle einer Liste\n",
    "- sie ist allerdings \"intern\" als Array implementiert, wobei mehr Speicher reserviert wird, als die Liste braucht\n",
    "  - daher ist eine Re-allokation nicht jedes Mal nötig\n",
    "  - Zugriff der Python-`list` kostet entsprechend nur $O(1)$\n",
    "- in sehr vielen Fällen wird dies die richtige Datenstruktur sein\n",
    "\n",
    "- **im Buch \"Algorithmen kapieren\" wird die Datenstruktur `list` daher als Array bezeichnet!**\n"
   ]
  },
  {
   "cell_type": "markdown",
   "metadata": {
    "slideshow": {
     "slide_type": "slide"
    }
   },
   "source": [
    "## Zusammenfassung"
   ]
  },
  {
   "cell_type": "markdown",
   "metadata": {
    "slideshow": {
     "slide_type": "-"
    }
   },
   "source": [
    "- Eine Datenstruktur dient zur Speicherung und Organisation von Daten\n",
    "- Der Arbeitsspeicher ist vergleichbar mit einer riesigen Menge an Schubladen, in denen jeweils ein Objekt abgelegt werden kann\n",
    "- Arrays und Linked Lists sind zwei grundlegende Datenstrukturen\n",
    "- Array: Speicherung nebeneinander, schneller Zugriff\n",
    "- Linked List: Speicherung verteilt, verknüpft durch Verweis auf Nachfolgeobjekt, effizientes Hinzufügen / löschen\n",
    "- je nach Verwendung im Algorithmus könnnen Linked Lists oder Arrays vorteilhaft sein\n",
    "- die Python `list` ist eigentlich ein Array!"
   ]
  }
 ],
 "metadata": {
  "celltoolbar": "Slideshow",
  "kernelspec": {
   "display_name": "Python 3",
   "language": "python",
   "name": "python3"
  },
  "language_info": {
   "codemirror_mode": {
    "name": "ipython",
    "version": 3
   },
   "file_extension": ".py",
   "mimetype": "text/x-python",
   "name": "python",
   "nbconvert_exporter": "python",
   "pygments_lexer": "ipython3",
   "version": "3.7.10"
  },
  "toc": {
   "base_numbering": 1,
   "nav_menu": {},
   "number_sections": false,
   "sideBar": true,
   "skip_h1_title": false,
   "title_cell": "Table of Contents",
   "title_sidebar": "Contents",
   "toc_cell": false,
   "toc_position": {},
   "toc_section_display": true,
   "toc_window_display": false
  },
  "varInspector": {
   "cols": {
    "lenName": 16,
    "lenType": 16,
    "lenVar": 40
   },
   "kernels_config": {
    "python": {
     "delete_cmd_postfix": "",
     "delete_cmd_prefix": "del ",
     "library": "var_list.py",
     "varRefreshCmd": "print(var_dic_list())"
    },
    "r": {
     "delete_cmd_postfix": ") ",
     "delete_cmd_prefix": "rm(",
     "library": "var_list.r",
     "varRefreshCmd": "cat(var_dic_list()) "
    }
   },
   "types_to_exclude": [
    "module",
    "function",
    "builtin_function_or_method",
    "instance",
    "_Feature"
   ],
   "window_display": false
  }
 },
 "nbformat": 4,
 "nbformat_minor": 2
}
