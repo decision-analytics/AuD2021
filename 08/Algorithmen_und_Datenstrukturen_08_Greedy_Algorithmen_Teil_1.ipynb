{
 "cells": [
  {
   "cell_type": "markdown",
   "metadata": {
    "slideshow": {
     "slide_type": "slide"
    }
   },
   "source": [
    "<img src=\"./img/logo_wiwi.png\" width=\"23%\" align=\"left\">\n",
    "<img src=\"./img/decision_analytics_logo.png\" width=\"17%\" align=\"right\">\n",
    "\n",
    "<br><br><br><br>\n",
    "\n",
    "\n",
    "## Algorithmen und Datenstrukturen\n",
    "Wintersemester 2021/22\n",
    "\n",
    "\n",
    "# 8 Greedy-Heuristiken für schwierige Optimierungsprobleme\n",
    "\n",
    "#### Teil 1: Einführung und erste Beispiele\n",
    "\n",
    "\n",
    "<br><br><br>\n",
    "J-Prof. Dr. Michael Römer, Till Porrmann "
   ]
  },
  {
   "cell_type": "markdown",
   "metadata": {
    "slideshow": {
     "slide_type": "slide"
    }
   },
   "source": [
    "## Überblick\n",
    "\n",
    "1. Einführung und Motivation: Ähnliche Probleme - unterschiedlich schwierig\n",
    "2. Komplexität von Optimierungsproblemen\n",
    "3. Greedy-Verfahren \n",
    "4. Weiteres Beispiel: Das Rucksack-Problem\n",
    "5. Weiteres Beispiel: Das Stundenplan-Problem\n",
    "6. Zusammenfassung"
   ]
  },
  {
   "cell_type": "markdown",
   "metadata": {
    "slideshow": {
     "slide_type": "slide"
    }
   },
   "source": [
    "## Motivation: Ähnliche Probleme - unterschiedlich schwierig\n",
    "\n",
    "### Die Suche nach einem kürzesten Weg zwischen zwei Knoten\n",
    "\n",
    "- in allgemeinen Graphen mit Laufzeit $O(|N|log|N| + |E|)$\n",
    "- in gerichteten azyklischen Graphen sogar nur $O(|N|+|E|)$"
   ]
  },
  {
   "cell_type": "markdown",
   "metadata": {
    "slideshow": {
     "slide_type": "fragment"
    }
   },
   "source": [
    "### Die Suche nach einem kürzesten Weg, *der alle Knoten beinhaltet*\n",
    "\n",
    "- es ist **kein effizienter** Algorithmus bekannt\n",
    "- genauer: es ist kein Algorithmus bekannt, der garantiert in polynmomieller Zeit einen solchen Weg findet"
   ]
  },
  {
   "cell_type": "markdown",
   "metadata": {
    "slideshow": {
     "slide_type": "slide"
    }
   },
   "source": [
    "## Die Suche nach Wegen, die alle Knoten beinhalten\n",
    "\n",
    "#### Shortest Hamiltonian Path Problem (SHPP)\n",
    "- ein Weg, der alle Knoten genau einmal besucht, wird **Hamiltonscher Pfad** genannt\n",
    "- das Problem, bei den man den den **kürzesten Hamiltonschen Pfad** sucht, nenn man das **Shortest Hamiltonian Path Problem (SHPP)**\n",
    "\n",
    "#### Traveling Salesperson Problem (TSP)\n",
    "- ein Weg, der alle Knoten genau einmal besucht und zum Ausgangspunkt zurückkehrt, wird **Hamiltonscher Zyklus** genannt\n",
    "- das Problem der Suche nach dem **kürzesten Hamiltonschen Zyklus** nennt man **Traveling Salesperson Problem (TSP)"
   ]
  },
  {
   "cell_type": "markdown",
   "metadata": {
    "slideshow": {
     "slide_type": "fragment"
    }
   },
   "source": [
    "##### Beachte: Fehler im Buch!\n",
    "Im Buch \"Algorithmen kapieren\" wird das SHPP beschrieben und illustiert und als TSP bezeichnet."
   ]
  },
  {
   "cell_type": "markdown",
   "metadata": {
    "slideshow": {
     "slide_type": "slide"
    }
   },
   "source": [
    "## SHPP: Ein Beispiel\n",
    "\n",
    "\n",
    "<img src=\"./img/24.png\" width=\"25%\" align=\"right\">\n",
    "\n",
    "- wir suchen einen Hamiltonschen Pfad, der die Städte auf der rechten Seite miteinander verbindet:\n",
    "- dabei ist der Startort nicht vorgegeben, sondern kann ebenfalls gewählt werden\n"
   ]
  },
  {
   "cell_type": "markdown",
   "metadata": {
    "slideshow": {
     "slide_type": "fragment"
    }
   },
   "source": [
    "- beispielhafte Pfade sehen so aus:\n",
    "<img src=\"./img/25.png\" width=\"40%\" align=\"middle\">"
   ]
  },
  {
   "cell_type": "markdown",
   "metadata": {
    "slideshow": {
     "slide_type": "slide"
    }
   },
   "source": [
    "## SHPP: Eigenschaften\n",
    "\n",
    "<img src=\"./img/26.png\" width=\"40%\" align=\"right\">\n",
    "\n",
    "- bei SHPP- und TSP-Problemen gibt es \n",
    "  - symmetrische Probleme (Distanz von A nach B = Distanz von B nach A) und\n",
    "  - asymmetrische Probleme (Distanz von A nach B $\\neq$ Distanz von B nach A)\n",
    " "
   ]
  },
  {
   "cell_type": "markdown",
   "metadata": {
    "slideshow": {
     "slide_type": "fragment"
    }
   },
   "source": [
    "-  gehen wir von einem asymmetrischen Problem aus, so gibt es bei 2 Knoten beim SHPP zwei Lösungen \n",
    "    \n",
    "><div class=\"alert alert-block alert-info\">\n",
    "<b> Wie viele gäbe es beim TSP? </b></div>\n",
    "\n",
    "    "
   ]
  },
  {
   "cell_type": "markdown",
   "metadata": {
    "slideshow": {
     "slide_type": "slide"
    }
   },
   "source": [
    "## SHPP: Anzahl an Lösungen: 3 Städte\n",
    "\n",
    "<img src=\"./img/27.png\" width=\"30%\" align=\"right\">\n",
    "\n",
    "- nehmen wir an, wir haben drei Städte - wie viele Lösungen für das SHPP gibt es?\n",
    "- für jede einzelne Stadt gibt zwei verschiedene Lösungen:"
   ]
  },
  {
   "cell_type": "markdown",
   "metadata": {
    "slideshow": {
     "slide_type": "fragment"
    }
   },
   "source": [
    "- jede Stadt kann Start-Stadt sein, also gibt es 3 $\\cdot$ 2 = 6 Lösungen\n",
    "\n",
    "<img src=\"./img/28_flat.png\" width=\"100%\" align=\"middle\">"
   ]
  },
  {
   "cell_type": "markdown",
   "metadata": {
    "slideshow": {
     "slide_type": "slide"
    }
   },
   "source": [
    "## SHPP: Anzahl an Lösungen: 4 Städte\n",
    "\n",
    "<img src=\"./img/29.png\" width=\"30%\" align=\"right\">\n",
    "\n",
    "- wie viele Lösungen gibt es für 4 Städte?\n",
    "- für jede einzelne Stadt gibt es 6 verschiedene Lösungen:"
   ]
  },
  {
   "cell_type": "markdown",
   "metadata": {
    "slideshow": {
     "slide_type": "fragment"
    }
   },
   "source": [
    "- jede Stadt kann Start-Stadt sein, also gibt es 4 $\\cdot$ 6 = 24 Lösungen\n",
    "\n",
    "<img src=\"./img/30.png\" width=\"60%\" align=\"middle\">"
   ]
  },
  {
   "cell_type": "markdown",
   "metadata": {
    "slideshow": {
     "slide_type": "slide"
    }
   },
   "source": [
    "## SHPP: Anzahl an Lösungen: Allgemeiner Fall\n",
    "\n",
    "Erkennen Sie eine Struktur?\n",
    "\n",
    "<img src=\"./img/31.png\" width=\"80%\" align=\"middle\">"
   ]
  },
  {
   "cell_type": "markdown",
   "metadata": {
    "slideshow": {
     "slide_type": "fragment"
    }
   },
   "source": [
    "- tatsächlich gibt es für $n$ Städte $n$ mal soviele Lösungen wir für $n-1$ Städte\n",
    "- das entspricht der so genannten Fakultätsfunktion $n!$\n",
    "\n",
    ".. wie wir wissen, steigt die sehr schnell an (sogar schneller als exponentiell):"
   ]
  },
  {
   "cell_type": "code",
   "execution_count": 15,
   "metadata": {
    "slideshow": {
     "slide_type": "fragment"
    }
   },
   "outputs": [
    {
     "data": {
      "text/plain": [
       "3628800"
      ]
     },
     "execution_count": 15,
     "metadata": {},
     "output_type": "execute_result"
    }
   ],
   "source": [
    "from math import factorial\n",
    "factorial(10)"
   ]
  },
  {
   "cell_type": "markdown",
   "metadata": {
    "slideshow": {
     "slide_type": "slide"
    }
   },
   "source": [
    "## SHPP: Enumerationsverfahren und Komplexität des Problems\n",
    "\n",
    "- ein Algorithmus, der derauf beruht, alle Lösungen durchzugehen und die beste zu wählen, nennt man **vollständige Enumeration**\n",
    "- in der Regel ist dies jedoch nicht der beste Algorithmus für ein Problem...\n"
   ]
  },
  {
   "cell_type": "markdown",
   "metadata": {
    "slideshow": {
     "slide_type": "fragment"
    }
   },
   "source": [
    "\n",
    "#### Beachte\n",
    "- die reine Anzahl aller zulässigen Lösungen macht noch keine Aussage über die Komplexität eines Problems!\n",
    "- es gibt Probleme mit einer unendlichen Zahl an möglichen Lösungen, die einfach Lösbar sind..."
   ]
  },
  {
   "cell_type": "markdown",
   "metadata": {
    "slideshow": {
     "slide_type": "fragment"
    }
   },
   "source": [
    "#### Dennoch:\n",
    "- für das SHPP und das TSP sind zwar bessere Verfahren als Enumerationsverfahren,\n",
    " - jedoch keine \"wirklich\" effizienten Verfahren bekannt\n",
    "- die beste bekannte Worst-Case-Laufzeit ist $O(|N|^2 \\cdot 2^{|N|})$"
   ]
  },
  {
   "cell_type": "markdown",
   "metadata": {
    "slideshow": {
     "slide_type": "slide"
    }
   },
   "source": [
    "# 2. Komplexität von Optimierugnsproblemen"
   ]
  },
  {
   "cell_type": "markdown",
   "metadata": {
    "slideshow": {
     "slide_type": "slide"
    }
   },
   "source": [
    "## Komplexitätsklassen\n",
    "\n",
    "Bisher haben wir meist \"leichte\" Probleme betrachtet, d.h. Probleme, für die Algorithmen bekannt sind, deren worst-case Laufzeit als Polynom der Eingabegrößen dargestellt werden kann.\n",
    "- derartige Probleme liegen in der **Komplexitätsklasse P** "
   ]
  },
  {
   "cell_type": "markdown",
   "metadata": {
    "slideshow": {
     "slide_type": "fragment"
    }
   },
   "source": [
    "Für \"schwere\" Probleme gilt (etwas vereinfacht gesagt): Es gibt keinen bekannten Algorithmus mit einer Laufzeit die schneller ist als exponentiell\n",
    "- Beispiele: TSP, SHPP, ...\n",
    "\n",
    "Derartige Probleme gehören zur Komplexitätsklasse der **NP-schweren** Probleme"
   ]
  },
  {
   "cell_type": "markdown",
   "metadata": {
    "slideshow": {
     "slide_type": "fragment"
    }
   },
   "source": [
    "##### Beachte:\n",
    "Im Buch wird davon gesprochen, dass das TSP und das Minimum Set Covering Problem \"NP-vollständigen\" Probleme sind: Das ist nicht (ganz) korrekt: Es sind **NP-schwere** (NP hard) Probleme\n",
    "\n",
    "..siehe auch: https://eklitzke.org/the-traveling-salesman-problem-is-not-np-complete"
   ]
  },
  {
   "cell_type": "markdown",
   "metadata": {
    "slideshow": {
     "slide_type": "slide"
    }
   },
   "source": [
    "## Ein weiteres paar für nur scheinbar ähnliche Probleme:\n",
    "\n",
    "### Lineare Programmierung (mit kontinuierlichen Variablen)\n",
    "- die wir aus Grundlagen des OR kennen\n",
    "- ...ist in polynomieller Zeit lösbar in Komplexitätsklasse P\n",
    "- \"fun fact\": der Simplex-Algorithmus hat eine exponentielle Worst-Case-Laufzeit\n",
    "- so genannte Interior-Point-Verfahren \n",
    "\n",
    "### Ganzzahlige Lineare Programmierung\n",
    "- kennen wir ebenfalls aus GOR?\n",
    "- ist NP-schwer!\n"
   ]
  },
  {
   "cell_type": "markdown",
   "metadata": {
    "slideshow": {
     "slide_type": "slide"
    }
   },
   "source": [
    "## NP-schwere Probleme in der Praxis\n",
    "\n",
    "- obwohl NP-schwere Probleme (theoretisch) eine exponentielle Laufzeit aufweisen, \n",
    "- können viele (aber bei weitem nicht alle!) Praxisprobleme, die NP-schwer sind, trotzdem in praktische annehmbarer Zeit gelöst werden\n",
    "  - beachte: die praktisch annehmbare Zeit hängt vom Problem ab - manchmal braucht man eine Lösung in Sekunden,  manchmal hat man eine ganze Nacht lang Zeit\n",
    "- \"theoretically intractable, but practically tractable\"\n",
    "\n",
    "\n",
    "#### Beispiele:\n",
    "- TSPs mit 1000 Städten können auf dem iPhone gelöst werden: https://apps.apple.com/us/app/concorde-tsp/id498366515\n",
    "- noch wichtiger: (gemischt-)ganzzahlige Optimierung\n",
    "  - einerseits gibt es viele Praxisprobleme, deren Modellinstanzen relativ klein sind (< 100 000 Variablen)\n",
    "  - andererseits können viele (aber bei weitem nicht alle) riesige ganzzahlige Optimierungsprobleme mit mehreren hunderttausenden Variablen heute effizient auf Notebooks gelöst werden\n",
    "- außerdem gibt es natürlich auch noch viel bessere Heuristiken als reine Greedy-Verfahren!"
   ]
  },
  {
   "cell_type": "markdown",
   "metadata": {
    "slideshow": {
     "slide_type": "slide"
    }
   },
   "source": [
    "## Anmerkung: P vs NP\n",
    "\n",
    "Das vielleicht wichtigste offene Problem der theoretischen Informatik ist das **P vs NP-Problem**:\n",
    "\n",
    "Obwohl die meisten Forscher annehmen, dass P $\\neq$ NP, so ist dies bisher nicht bewiesen worden!\n",
    "\n",
    "\n",
    "Bsp: Wenn P=NP gelten würde, so müsste ein polynomieller Algorithmus für das TSP existieren!\n",
    "\n"
   ]
  },
  {
   "cell_type": "markdown",
   "metadata": {
    "slideshow": {
     "slide_type": "slide"
    }
   },
   "source": [
    "# 3. Greedy-Verfahren "
   ]
  },
  {
   "cell_type": "markdown",
   "metadata": {
    "slideshow": {
     "slide_type": "slide"
    }
   },
   "source": [
    "## Was tun, wenn kein effizienter Algorithmus bekannt ist?\n",
    "\n",
    "- für das SHPP und das TSP sind keine effizienten Algorithmen bekannt\n",
    "- was tun, wenn man dennoch ein großes TSP, z.B. mit 10000 Städten lösen möchte?"
   ]
  },
  {
   "cell_type": "markdown",
   "metadata": {
    "slideshow": {
     "slide_type": "slide"
    }
   },
   "source": [
    "#### Idee: Man gibt die Optimalitätsforderung auf!\n",
    "\n",
    "- wenn man es nicht schafft, in kurzer Zeit eine exakte / optimale Lösung zu finden\n",
    "- kann man versuchen, in kurzer Zeit eine **gute** Lösung zu finden\n",
    "- Verfahren, die das für Optimierungsprobleme versuchen, nennt man **Heuristiken**\n",
    "- ein besonders einfacher und allgemeiner Ansatz nennt sich **Greedy-Verfahren** (greedy = gierig)\n",
    " - diesen Ansatz werden wir nun näher betrachten"
   ]
  },
  {
   "cell_type": "markdown",
   "metadata": {
    "slideshow": {
     "slide_type": "slide"
    }
   },
   "source": [
    "## Ein Greedy-Ansatz für das Shortest Hamiltonian Path-Problem: Nearest-Neighbor"
   ]
  },
  {
   "cell_type": "markdown",
   "metadata": {
    "slideshow": {
     "slide_type": "-"
    }
   },
   "source": [
    "\n",
    "<img src=\"./img/32.png\" width=\"20%\" align=\"right\">\n",
    "\n",
    "\n",
    "Eine einfache und sehr bekannte Heuristik für das SHPP (und das TSP) nennt sich **nearest neighbor**:\n",
    "- man startet bei einem Knoten und\n",
    "- wählt in jedem Schritt immer den Knoten aus, der dem aktuellen am nächsten ist:\n",
    "\n",
    "Beispiel rechts: wir starten in Marin und suchen immer den nächsten Nachbarn\n",
    "\n",
    "TSP-Algorithmen selbst ausprobieren: https://www.math.uwaterloo.ca/tsp/app/diy.html\n"
   ]
  },
  {
   "cell_type": "markdown",
   "metadata": {
    "slideshow": {
     "slide_type": "fragment"
    }
   },
   "source": [
    "><div class=\"alert alert-block alert-info\">\n",
    "<b> Welche Laufzeitkomplexität weist dieser Algorithmus auf? </b></div>"
   ]
  },
  {
   "cell_type": "markdown",
   "metadata": {
    "slideshow": {
     "slide_type": "slide"
    }
   },
   "source": [
    "## Vereinfachte Definition: Greedy-Algorithmus\n",
    "\n",
    "#### Kernidee von Greedy-Algorithmen\n",
    "- der Algorithmus geht Schritt für Schritt vor\n",
    "- dabei er Auswahl des nächsten Schritts / der nächsten Aktion erfolgt \"gierig\", d.h.\n",
    "  - es wird ein (lokales) Kriterium definiert (z.B. Entfernung zu den Nachbarn) und\n",
    "  - ein(e) \"lokal optimaler\"  Schritt / Aktion gewählt (z.B. der Nachbar mit der niedrigsten Entfernung)\n",
    "\n",
    "#### Beachte: \n",
    "Die \"lokal optimale\" Auswahl ist in der Regel nicht \"global optimal\""
   ]
  },
  {
   "cell_type": "markdown",
   "metadata": {
    "slideshow": {
     "slide_type": "fragment"
    }
   },
   "source": [
    "><div class=\"alert alert-block alert-info\">\n",
    "<b> Wieso trifft diese Aussage beim SHPP und mehr noch beim TSP zu? </b></div>"
   ]
  },
  {
   "cell_type": "markdown",
   "metadata": {
    "slideshow": {
     "slide_type": "fragment"
    }
   },
   "source": [
    "><div class=\"alert alert-block alert-info\">\n",
    "<b> Ist Dijkstra ein Greedy-Algorithmus? </b></div>"
   ]
  },
  {
   "cell_type": "markdown",
   "metadata": {
    "slideshow": {
     "slide_type": "slide"
    }
   },
   "source": [
    "# 4. Weiteres Beispiel: Das Rucksack-Problem"
   ]
  },
  {
   "cell_type": "markdown",
   "metadata": {
    "slideshow": {
     "slide_type": "slide"
    }
   },
   "source": [
    "## Das Rucksack-Problem (Knapsack Problem)\n",
    "\n",
    "Ein weiteres bekanntes Problem, das einfach zu verstehen, aber (für große Instanzen) schwer zu lösen ist, ist das\n",
    "\n",
    "#### Rucksack-Problem (Knapsack Problem)\n",
    "\n",
    "- Gegeben ist ein Rucksack, der ein **Maximalgewicht** fassen kann,\n",
    "- sowie Gegenstände, die eingepackt werden können. Diese haben jeweils\n",
    "  - ein Gewicht und\n",
    "  - einen Wert\n",
    "- das Ziel ist es, eine Menge von Gegenständen einzupacken, \n",
    "  - die das Maximalgewicht nicht überschreitet und\n",
    "  - einen möglichst großen Wert hat\n",
    "  "
   ]
  },
  {
   "cell_type": "markdown",
   "metadata": {
    "slideshow": {
     "slide_type": "fragment"
    }
   },
   "source": [
    "Wie das TSP ist dieses Optimierungsproblem NP-schwer!"
   ]
  },
  {
   "cell_type": "markdown",
   "metadata": {
    "slideshow": {
     "slide_type": "fragment"
    }
   },
   "source": [
    "><div class=\"alert alert-block alert-info\">\n",
    "<b> Wie könnte ein Greedy-Algorithmus für dieses Problem funktionieren? </b></div>"
   ]
  },
  {
   "cell_type": "markdown",
   "metadata": {
    "slideshow": {
     "slide_type": "slide"
    }
   },
   "source": [
    "## Das Rucksack-Problem: Beispiel\n",
    "\n",
    "<img src=\"./img/07.png\" width=\"20%\" align=\"right\">\n",
    "\n",
    "Nehmen wir an, du bist ein habgieriger Dieb. Du kannst in deiner Tasche maximal 35 Pfund transportieren und dich interessieren folgende drei Gegenstände:\n",
    "\n",
    "\n",
    "\n",
    "<img src=\"./img/08.png\" width=\"40%\" align=\"left \">"
   ]
  },
  {
   "cell_type": "markdown",
   "metadata": {
    "slideshow": {
     "slide_type": "fragment"
    }
   },
   "source": [
    "Was passiert, wenn wir als Greedy-Regel immer den wertvollsten noch passenden Gegenstand in den Rucksack packen?"
   ]
  },
  {
   "cell_type": "markdown",
   "metadata": {
    "slideshow": {
     "slide_type": "slide"
    }
   },
   "source": [
    "### Rucksack-Beispiel: Greedy-Lösung vs Optimale Lösung\n",
    "\n",
    "Die Lösung mit dem genannten Greedy-Ansatz sieht wie folgt aus:\n",
    "\n",
    "<img src=\"./img/09.png\" width=\"40%\" align=\"middle\">"
   ]
  },
  {
   "cell_type": "markdown",
   "metadata": {
    "slideshow": {
     "slide_type": "fragment"
    }
   },
   "source": [
    "Es ist leicht zu sehen, dass die optimale Lösung anders aussieht:\n",
    "<img src=\"./img/10.png\" width=\"40%\" align=\"middle\">"
   ]
  },
  {
   "cell_type": "markdown",
   "metadata": {
    "slideshow": {
     "slide_type": "fragment"
    }
   },
   "source": [
    "><div class=\"alert alert-block alert-info\">\n",
    "<b> Wie könnte ein alternativer Greedy-Algorithmus aussehen? </b></div>"
   ]
  },
  {
   "cell_type": "markdown",
   "metadata": {
    "slideshow": {
     "slide_type": "slide"
    }
   },
   "source": [
    "# 4. Weiteres Beispiel: Ein Stundenplanungsproblem"
   ]
  },
  {
   "cell_type": "markdown",
   "metadata": {
    "slideshow": {
     "slide_type": "slide"
    }
   },
   "source": [
    "## Ein Stundenplanungsproblem\n",
    "\n",
    "<img src=\"./img/01.png\" width=\"20%\" align=\"right\">\n",
    "\n",
    "- nehmen wir an, du bist Lehrer und du würdest gern möglichst viele Stunden unterrichten \n",
    "- möglich wären folgende Stunden:"
   ]
  },
  {
   "cell_type": "markdown",
   "metadata": {
    "slideshow": {
     "slide_type": "fragment"
    }
   },
   "source": [
    "..du kannst allerdings nicht alle unterrichten, denn die Stunden überlappen sich:\n",
    "\n",
    "<img src=\"./img/02.png\" width=\"40%\" align=\"middle\">"
   ]
  },
  {
   "cell_type": "markdown",
   "metadata": {
    "slideshow": {
     "slide_type": "fragment"
    }
   },
   "source": [
    "><div class=\"alert alert-block alert-info\">\n",
    "<b> Wie könnte ein Greedy-Algorithmus für dieses Problem funktionieren? </b></div>"
   ]
  },
  {
   "cell_type": "markdown",
   "metadata": {
    "slideshow": {
     "slide_type": "slide"
    }
   },
   "source": [
    "## Ein Greedy-Algorithmus\n",
    "\n",
    "<img src=\"./img/03.png\" width=\"30%\" align=\"right\">\n",
    "\n",
    "#### Möglicher Greedy-Ansatz\n",
    "- beginnend der frühesten Stunde: \n",
    "- füge jeweils die früheste noch passende  Stunde hinzu\n",
    "- Schritt 1: wir fangen mit Kunst an"
   ]
  },
  {
   "cell_type": "markdown",
   "metadata": {
    "slideshow": {
     "slide_type": "slide"
    }
   },
   "source": [
    "### Schritt 2:\n",
    "\n",
    "<img src=\"./img/04.png\" width=\"20%\" align=\"right\">\n",
    "\n",
    "- Englisch passt nicht wegen Überlappung..\n",
    "- Mathe schon!"
   ]
  },
  {
   "cell_type": "markdown",
   "metadata": {
    "slideshow": {
     "slide_type": "fragment"
    }
   },
   "source": [
    "### Schritt 3:\n",
    "\n",
    "<img src=\"./img/05.png\" width=\"20%\" align=\"right\">\n",
    "\n",
    "- Informatik passt nicht wegen Überlappung..\n",
    "- Musik schon!"
   ]
  },
  {
   "cell_type": "markdown",
   "metadata": {
    "slideshow": {
     "slide_type": "slide"
    }
   },
   "source": [
    "## Stundenplan-Beispiel\n",
    "\n",
    "..fertig ist der Stundenplan:\n",
    "\n",
    "<img src=\"./img/06.png\" width=\"40%\" align=\"middle\">\n",
    "\n",
    "\n",
    "... tatsächlich ist dies die optimale Lösung!\n"
   ]
  },
  {
   "cell_type": "markdown",
   "metadata": {
    "slideshow": {
     "slide_type": "fragment"
    }
   },
   "source": [
    "><div class=\"alert alert-block alert-info\">\n",
    "<b> Ist das ein Zufall? Woran liegt es, dass die Lösung optimal ist? Würde das immer der Fall sein, und welche Bedingungen müssen dafür gelten? </b></div>\n"
   ]
  },
  {
   "cell_type": "markdown",
   "metadata": {
    "slideshow": {
     "slide_type": "fragment"
    }
   },
   "source": [
    "#### Beachte:\n",
    "\n",
    "Echte Stundenplanungsprobleme mit \n",
    "- mehreren Lehrern, die jeweils \n",
    "- meherern Klassen\n",
    "- und Raumzuordnungen\n",
    "\n",
    "...sind NP-schwere Probleme, für das Greedy-Verfahren in der Regel schlechte Lösungen bringen!"
   ]
  },
  {
   "cell_type": "markdown",
   "metadata": {
    "slideshow": {
     "slide_type": "slide"
    }
   },
   "source": [
    "## Zusammenfassung\n",
    "\n",
    "- während für manche Probleme effiziente Algorithmen bekannt sind (z.B. Sortierprobleme, Kürzeste Wege, Lineare Programmierung), sind für andere Probleme (z.B. TSP, gemischt-ganzzahlige Optimierung) nur Algorithmen bekannt, die eine **exponentielle** Laufzeit aufweisen\n",
    "- generell spricht man bei solchen Problemen von **kombinatorischen Optimierungsproblemen**, die zur Komplexitätsklasse der **NP-schweren** Probleme gehören"
   ]
  },
  {
   "cell_type": "markdown",
   "metadata": {
    "slideshow": {
     "slide_type": "fragment"
    }
   },
   "source": [
    "- es gibt zwar für manche NP-schwere Probleme Algorithmen, die bestimmte praktische Probleme in annehmbarer Zeit lösen können, \n",
    "- dennoch ist es oftmals nötig, auf Heuristiken zurückzugreifen, die schnell (hoffentlich) gute Lösungen liefern\n",
    "- eine einfache Klasse derartiger Verfahren sind so genannte Greedy-Algorithmen, die in jedem Schritt \"lokal optimale\" Entscheidungen treffen"
   ]
  },
  {
   "cell_type": "markdown",
   "metadata": {
    "slideshow": {
     "slide_type": "fragment"
    }
   },
   "source": [
    "### Ausblick: Beim nächsten Mal \n",
    "- betrachten wir das Set Covering-Problem und implementieren hierfür einen Greedy-Algorithmus\n",
    "- beginnen wir mit Thema 9: Dynamische Programmierung"
   ]
  },
  {
   "cell_type": "markdown",
   "metadata": {
    "slideshow": {
     "slide_type": "slide"
    }
   },
   "source": [
    "# Anmerkungen zu Kapitel 8 des Buches"
   ]
  },
  {
   "cell_type": "markdown",
   "metadata": {
    "slideshow": {
     "slide_type": "slide"
    }
   },
   "source": [
    "## Approximationsalgorithmus vs Heuristik\n",
    "- Im Buch wird der Begriff \"Approximationsalgorithmus\" verwendet, um Verfahren zu beschreiben, die (hoffentlich) ein gute, aber nicht immmer eine optimale Lösung finden. Korrekt ist hierfür allerdings die Bezeichnung \"Heurisitik\" \n",
    "- Unter einem \"Approximationsalgorithmus\" verstehen wir einen Algorithmus, der uns eine **Qualitätsgarantie** gibt, z.B. : \"Die Lösung ist höchstens 5% schlechter als das Optimum\"\n",
    "- vereinfacht könnte man sagen: Ein Approximationsalgorithmus ist eine Heursitik mit gegebener Approximationsgüte\n",
    "..siehe z.B. https://en.wikipedia.org/wiki/Approximation_algorithm"
   ]
  },
  {
   "cell_type": "markdown",
   "metadata": {
    "slideshow": {
     "slide_type": "slide"
    }
   },
   "source": [
    "## Das Traveling Salesperson Problem (TSP)\n",
    "- beim \"echten\" TSP besucht der Handlungsreisende alle Knoten und kommt zum Startpunkt zurück, und die \"Rückkehr\" wird bei der Gesamtstrecke mitgezählt\n",
    "  - ein solcher Pfad mit Rückkehr wird als \"Hamiltonkreis\" bezeichnet\n",
    "  - man kann also sagen, dass beim TSP der kürzeste Hamiltonkreis gesucht wird\n",
    "  \n",
    "- das im Buch beschriebene Problem beinhaltet die Rückkehr nicht, d.h. es soll lediglich der kürzeste Pfad gesucht werden, der alle Knoten besucht \n",
    "  - ein solcher Pfad wird \"Hamiltonpfad\" genannt\n",
    "  - das Problem, das im Buch beschrieben wird, kann man also als Suche nach dem kürzesten Hamiltonpfad bezeichnen (Shortest Hamiltonian Path Problem / SHPP)\n",
    "  - es ist allerdings kein TSP - aber genauso schwierig zu lösen:\n",
    "    - beide Probleme können ineinander überführt werden\n",
    " \n"
   ]
  },
  {
   "cell_type": "markdown",
   "metadata": {
    "slideshow": {
     "slide_type": "slide"
    }
   },
   "source": [
    "## NP-vollständig vs NP-schwer\n",
    "Im Buch werden verschiedene Optimierungsprobleme (set covering, TSP) als **NP-vollständig** bezeichnet. \n",
    "- das ist jedoch nicht korrekt, denn das würde voraussetzen, dass man in polynomieller Zeit überprüfen kann, ob eine Lösung tatsächlich optimal ist. Das ist jedoch nicht der Fall\n",
    "\n",
    "- der richtige Begriff lautet: **NP-schwer** / **np hard**\n",
    "\n"
   ]
  }
 ],
 "metadata": {
  "celltoolbar": "Slideshow",
  "kernelspec": {
   "display_name": "Python 3",
   "language": "python",
   "name": "python3"
  },
  "language_info": {
   "codemirror_mode": {
    "name": "ipython",
    "version": 3
   },
   "file_extension": ".py",
   "mimetype": "text/x-python",
   "name": "python",
   "nbconvert_exporter": "python",
   "pygments_lexer": "ipython3",
   "version": "3.7.10"
  },
  "rise": {
   "enable_chalkboard": true
  },
  "toc": {
   "base_numbering": 1,
   "nav_menu": {},
   "number_sections": false,
   "sideBar": true,
   "skip_h1_title": false,
   "title_cell": "Table of Contents",
   "title_sidebar": "Contents",
   "toc_cell": false,
   "toc_position": {},
   "toc_section_display": true,
   "toc_window_display": false
  },
  "varInspector": {
   "cols": {
    "lenName": 16,
    "lenType": 16,
    "lenVar": 40
   },
   "kernels_config": {
    "python": {
     "delete_cmd_postfix": "",
     "delete_cmd_prefix": "del ",
     "library": "var_list.py",
     "varRefreshCmd": "print(var_dic_list())"
    },
    "r": {
     "delete_cmd_postfix": ") ",
     "delete_cmd_prefix": "rm(",
     "library": "var_list.r",
     "varRefreshCmd": "cat(var_dic_list()) "
    }
   },
   "types_to_exclude": [
    "module",
    "function",
    "builtin_function_or_method",
    "instance",
    "_Feature"
   ],
   "window_display": false
  }
 },
 "nbformat": 4,
 "nbformat_minor": 2
}
