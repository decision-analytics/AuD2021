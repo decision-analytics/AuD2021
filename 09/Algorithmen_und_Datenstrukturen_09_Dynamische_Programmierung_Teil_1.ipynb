{
 "cells": [
  {
   "cell_type": "markdown",
   "metadata": {
    "slideshow": {
     "slide_type": "fragment"
    }
   },
   "source": [
    "<img src=\"./img/logo_wiwi.png\" width=\"23%\" align=\"left\">\n",
    "<img src=\"./img/decision_analytics_logo.png\" width=\"17%\" align=\"right\">\n",
    "\n",
    "<br><br><br><br>\n",
    "\n",
    "\n",
    "## Algorithmen und Datenstrukturen\n",
    "Wintersemester 2021/22\n",
    "\n",
    "\n",
    "# 9 Dynamische Programmierung\n",
    "\n",
    "Teil 1: Einführung und Rucksack-Problem\n",
    "\n",
    "<br><br><br>\n",
    "J-Prof. Dr. Michael Römer, Till Porrmann "
   ]
  },
  {
   "cell_type": "markdown",
   "metadata": {
    "slideshow": {
     "slide_type": "slide"
    }
   },
   "source": [
    "## Überblick\n",
    "\n",
    "1. Einführung und Motivation: Zwischen Enumeration und Greedy-Ansätzen\n",
    "2. Dynamische Programmierung: Beispiel Rucksack-Problem\n",
    "3. Verständnisfragen zum Algorithmus\n",
    "4. Zusammenfassung"
   ]
  },
  {
   "cell_type": "markdown",
   "metadata": {
    "slideshow": {
     "slide_type": "slide"
    }
   },
   "source": [
    "## Motivation\n",
    "\n",
    "Wir haben bisher eine Reihe von spezifischen Algorithmen kennengelernt, z.B.\n",
    "- Sortierverfahren\n",
    "- Kürzeste-Wege-Verfahren\n",
    "\n",
    "Und einige allgemeine Prinzipien für die Gestaltung von Algorithmen bzw. Klassen von Algorithmen:\n",
    "- Divide-and-Conquer\n",
    "- (Vollständige) Enumeration\n",
    "- Greedy\n",
    "\n",
    "In diesem Teil betrachten wir ein weiteres allgemeines Konstruktionsprinzip: Dynamische Programmierung"
   ]
  },
  {
   "cell_type": "markdown",
   "metadata": {
    "slideshow": {
     "slide_type": "slide"
    }
   },
   "source": [
    "## Beispiel: Das Rucksack-Problem \n",
    "\n",
    "In der vergangenen Veranstaltung haben wir bereits das **Rucksack-Problem** kennengelernt:\n",
    "- Gegeben ist ein Rucksack, der ein **Maximalgewicht** fassen kann,\n",
    "- sowie Gegenstände, die eingepackt werden können. Diese haben jeweils\n",
    "  - ein Gewicht und einen Wert\n",
    "- das Ziel ist es, eine Menge von Gegenständen einzupacken, \n",
    "  - die das Maximalgewicht nicht überschreitet und   einen möglichst großen Wert hat"
   ]
  },
  {
   "cell_type": "markdown",
   "metadata": {
    "slideshow": {
     "slide_type": "fragment"
    }
   },
   "source": [
    " <img src=\"./img/greedy_07.png\" width=\"15%\" align=\"right\">\n",
    " \n",
    "Wir hatten folgendes Beispiel betrachtet:\n",
    "\n",
    "<img src=\"./img/1.png\" width=\"40%\" align=\"middle\">\n",
    "\n"
   ]
  },
  {
   "cell_type": "markdown",
   "metadata": {
    "slideshow": {
     "slide_type": "slide"
    }
   },
   "source": [
    "## Beispiel: Das Rucksack-Problem mit Enumeration\n",
    "\n",
    "- der einfachste Ansatz um garantiert die optimale Lösung zu bekommen, ist die **vollständige Enumeration**\n",
    "- hier zählen wir einfach alle möglichen Kombinationen auf und\n",
    "- wählen dann die beste Kombination aus\n",
    "\n",
    "<img src=\"./img/1a.png\" width=\"40%\" align=\"middle\">"
   ]
  },
  {
   "cell_type": "markdown",
   "metadata": {
    "slideshow": {
     "slide_type": "fragment"
    }
   },
   "source": [
    "- **Problem:** Es gibt $2^n$ mögliche Kombinationen!"
   ]
  },
  {
   "cell_type": "markdown",
   "metadata": {
    "slideshow": {
     "slide_type": "slide"
    }
   },
   "source": [
    "## Beispiel: Das Rucksack-Problem mit einem Greedy-Ansatz\n",
    "\n",
    "<img src=\"./img/greedy_09.png\" width=\"35%\" align=\"right\">\n",
    "\n",
    "#### Wir erinnern uns:\n",
    "\n",
    "Ein möglicher Greedy-Ansatz funktioniert wie folgt:\n",
    "- sortiere die Gegenstände (absteigend) nach Wert \n",
    "- für jeden Gegenstand:\n",
    "  - wenn er noch in den Rucksack passt, füge ihn ein\n",
    "  \n",
    "Für unser Beispiel bekommen wir dann die Lösung rechts\n",
    "- die nicht optimal ist!\n"
   ]
  },
  {
   "cell_type": "markdown",
   "metadata": {
    "slideshow": {
     "slide_type": "fragment"
    }
   },
   "source": [
    "- $\\rightarrow$ Greedy-Ansätze sind zwar schnell, aber wir bekommen keinerlei Garantie für die Qualität einer Lösung!"
   ]
  },
  {
   "cell_type": "markdown",
   "metadata": {
    "slideshow": {
     "slide_type": "fragment"
    }
   },
   "source": [
    "#### Gibt es vielleicht etwas dazwischen?\n",
    "- ja, oftmals gibt es Ansätze für schwere Probleme, die **besser als Enmueration** sind\n",
    "- wir werden nun ein Konstruktionsprinzip für derartige Algorithmen kennenlernen:\n",
    "- die **Dynamische Programmierung**"
   ]
  },
  {
   "cell_type": "markdown",
   "metadata": {
    "slideshow": {
     "slide_type": "slide"
    }
   },
   "source": [
    "# 2. Dynamische Programmierung: Beispiel Rucksack-Problem"
   ]
  },
  {
   "cell_type": "markdown",
   "metadata": {
    "slideshow": {
     "slide_type": "slide"
    }
   },
   "source": [
    "## Dynamische Programmierung\n",
    "\n",
    "#### Dynamische Programmierung\n",
    "- ist ein allgemeines Prinzip zur Gestaltung von Algorithmen (in der Regel für Optimierungsprobleme)\n",
    "\n",
    "**Ausgangspunkt ist die Identifikation von zwei Eigenschaften:**\n",
    "  \n",
    "- **Überlappende Teilprobleme:** (overlapping subproblems)\n",
    "   - ein Problem kann in Teilprobleme \"dekomponiert\" werden, dabei tauchen \"kleinere\" Teilprobleme in verschiedenen \"größeren\" Teilproblemen wieder auf\n",
    "\n",
    "- **Optimale Teilstruktur** (optimal substructure)\n",
    "   - eine optimale Lösung für das Gesamtproblem setzt sich aus optimalen Lösungen für Teilprobleme zusammen"
   ]
  },
  {
   "cell_type": "markdown",
   "metadata": {
    "slideshow": {
     "slide_type": "fragment"
    }
   },
   "source": [
    "**Beide Eigenschaften zusammen führen zu folgenden Idee:**\n",
    "- eine optimale Gesamtlösung können wir aus den Lösungen für Teilprobleme zusammensetzen\n",
    "- wir müssen die Lösungen für Teilprobleme nur einmal berechnen (wir können sie speichern und wiederverwenden)"
   ]
  },
  {
   "cell_type": "markdown",
   "metadata": {
    "slideshow": {
     "slide_type": "fragment"
    }
   },
   "source": [
    "#### Beachte:\n",
    "- es ist alles andere als trivial, für allgemeine Probleme diese Eigenschaften zu identifizieren\n",
    "- manchmal gibt es verschiedene Ansätze der Dynamischen Programmierung für ein und dasselbe Problem"
   ]
  },
  {
   "cell_type": "markdown",
   "metadata": {
    "slideshow": {
     "slide_type": "slide"
    }
   },
   "source": [
    "## Dynamische Programmierung für das Rucksack-Problem\n",
    "\n",
    "<img src=\"./img/2.png\" width=\"23%\" align=\"right\">\n",
    "\n",
    "Beim Rucksackproblem können wir beide Eigenschaften identifizieren:\n",
    "\n",
    "**Überlappende Teilprobleme**:\n",
    "- das Packen des Rucksacks enspricht dem Füllen von Teilkapazitäten des Rucksacks mit Teilmengen von Gegenständen\n",
    "- der gleiche \n",
    "\n",
    "**Optimale Teilstrukturen**:\n",
    "- die optimale Gesamtlösung lässt sich herleiten aus den optimalen Lösungen von Teilproblemen\n",
    "\n",
    "\n",
    "\n",
    "\n"
   ]
  },
  {
   "cell_type": "markdown",
   "metadata": {
    "slideshow": {
     "slide_type": "slide"
    }
   },
   "source": [
    "## Dynamische Programmierung für das Rucksack-Problem: Beispiel\n",
    "\n",
    "- wir haben  die **folgende Tabelle** (das Gitter, das grid)\n",
    "\n",
    "\n",
    "<img src=\"./img/3.png\" width=\"40%\" align=\"middle\">\n",
    "\n",
    "**Eine Zelle (Gegenstand g, Kapazität k)** soll enthalten:\n",
    "- **die optimale Lösung des Teilproblems**, das\n",
    "  - **alle Gegenstände bis zum Gegenstand g** sowie \n",
    "  - **die Kapazität k** umfasst\n",
    "\n"
   ]
  },
  {
   "cell_type": "markdown",
   "metadata": {
    "slideshow": {
     "slide_type": "fragment"
    }
   },
   "source": [
    "- beim Ausfüllen der Tabelle gehen wir Zeile für Zeile von links nach rechts vor\n",
    "- auf diese Weise werden wir aus der Lösung der (immer komplexer werdenen) **Teilprobleme** die optimale Gesamtlösung berechnen für das \"Teilproblem\" unten rechts (alle Gegenstände, die gesamte Kapazität)"
   ]
  },
  {
   "cell_type": "markdown",
   "metadata": {
    "slideshow": {
     "slide_type": "slide"
    }
   },
   "source": [
    "## DP für das Rucksack-Problem: Ausfüllen der Gitarrenzeile\n",
    "\n",
    "\n",
    "<img src=\"./img/5.png\" width=\"23%\" align=\"right\">\n",
    "\n",
    "**Wir fanden an mit der ersten Zelle, Kapazität 1**\n",
    "- die Gitarre passt genau rein, wir haben einen Wert von 1500 €\n",
    "\n"
   ]
  },
  {
   "cell_type": "markdown",
   "metadata": {
    "slideshow": {
     "slide_type": "fragment"
    }
   },
   "source": [
    "\n",
    "<img src=\"./img/6.png\" width=\"23%\" align=\"right\">\n",
    "\n",
    "**Weiter in der Gitarren-Zeile, Kapazität 2**\n",
    "- die Gitarre ist schon drin - mehr Gegenstände haben wir in diesem Teilproblem nicht\n",
    "- d.h. die Lösung ist die gleiche wie für die Zelle 1 in der Gitarren-Zeile...\n"
   ]
  },
  {
   "cell_type": "markdown",
   "metadata": {
    "slideshow": {
     "slide_type": "fragment"
    }
   },
   "source": [
    "\n",
    "<img src=\"./img/7.png\" width=\"23%\" align=\"right\">\n",
    "\n",
    "**Wir füllen die restlichen Zellen**\n",
    "- für die übrigen Zellen gilt das gleiche wie für die vorherigen Zelle:\n",
    "- wir können die verbleibende Kapazität nicht füllen\n",
    "\n"
   ]
  },
  {
   "cell_type": "markdown",
   "metadata": {
    "slideshow": {
     "slide_type": "slide"
    }
   },
   "source": [
    "## DP für das Rucksack-Problem: Ausfüllen der Stereoanlagen-Zeile\n",
    "\n",
    "<img src=\"./img/10.png\" width=\"23%\" align=\"right\">\n",
    "\n",
    "Stereo-Anlage: Gewicht: 4, Wert: 3000 €\n",
    "\n",
    "**Stereo-Anlage, Kapazität 1**\n",
    "\n",
    "- wir suchen die optimale Lösung für den Fall: Gitarre und Stereoanlage, Kapazität 1\n",
    "- die Stereoanlage passt nicht rein \n",
    "  - aber wir wissen aus der vorherigen Zeile, dass wir mit der Gitarre einen Gewinn von 1500 € machen\n",
    "- die beste Lösung für diesen Fall ist also die aus der Zeile zuvor!"
   ]
  },
  {
   "cell_type": "markdown",
   "metadata": {
    "slideshow": {
     "slide_type": "fragment"
    }
   },
   "source": [
    "<img src=\"./img/11.png\" width=\"23%\" align=\"right\">\n",
    "\n",
    "**Stereo-Anlage, Kapazitäten 2 und 3**\n",
    "\n",
    "- genau wie in Zelle 1 gilt, dass die Stereoanlage nicht reinpasst\n",
    "- die beste Lösung ist also wieder jeweils die aus der Zeile zuvor!"
   ]
  },
  {
   "cell_type": "markdown",
   "metadata": {
    "slideshow": {
     "slide_type": "fragment"
    }
   },
   "source": [
    "<img src=\"./img/11.png\" width=\"23%\" align=\"right\">\n",
    "\n",
    "**Stereo-Anlage, Kapazität 4**\n",
    "- jetzt wird es interessant: die Stereoanlage passt rein\n",
    "- wir vergleichen die Stereoanlage mit der Lösung aus der vorherigen Zeile\n",
    "  - die Stereo-Anlage ist besser und\n",
    "  - es ist kein Platz mehr für die Gitarre\n",
    "- die beste Lösung für diesen Fall ist also die Stereoanlage!\n"
   ]
  },
  {
   "cell_type": "markdown",
   "metadata": {
    "slideshow": {
     "slide_type": "slide"
    }
   },
   "source": [
    "## DP für das Rucksack-Problem: Ausfüllen der Laptop-Zeile\n",
    "\n",
    "<img src=\"./img/14.png\" width=\"23%\" align=\"right\">\n",
    "\n",
    "Laptop: Gewicht: 3, Wert: 2000 €\n",
    "\n",
    "**Laptop, Kapazität 1 und 2**\n",
    "\n",
    "- wir suchen die optimale Lösung für den Fall: Gitarre, Stereoanlage, Laptop Kapazität 1 (bzw. Kapazität 2)\n",
    "- das Laptop passt nicht rein\n",
    "  - aber wir wissen aus der vorherigen Zeile, dass wir mit der Gitarre einen Gewinn von 1500 € machen\n",
    "  - die beste Lösung für diesen Fall ist also die aus der Zeile zuvor!"
   ]
  },
  {
   "cell_type": "markdown",
   "metadata": {
    "slideshow": {
     "slide_type": "fragment"
    }
   },
   "source": [
    "\n",
    "<img src=\"./img/15.png\" width=\"23%\" align=\"right\">\n",
    "\n",
    "\n",
    "**Laptop, Kapazität 3**\n",
    "- das Laptop passt genau rein!\n",
    "  - der Vergleich mit der Zelle oberhalb ergibt: \n",
    "    - es ist besser, das Laptop einzupacken als die vorherige Lösung zu nutzen\n"
   ]
  },
  {
   "cell_type": "markdown",
   "metadata": {
    "slideshow": {
     "slide_type": "fragment"
    }
   },
   "source": [
    "\n",
    "<img src=\"./img/17.png\" width=\"23%\" align=\"right\">\n",
    "\n",
    "\n",
    "**Laptop, Kapazität 4**\n",
    "- wir haben eine Kapazität von 4, aber für das Laptop brauchen wir nur 3\n",
    "\n",
    "><div class=\"alert alert-block alert-info\">\n",
    "<b> Wie berechnen wir den optimalen Wert für diese Zelle? </b></div>\n",
    "\n",
    "\n",
    "  \n"
   ]
  },
  {
   "cell_type": "markdown",
   "metadata": {
    "slideshow": {
     "slide_type": "slide"
    }
   },
   "source": [
    "## DP für das Rucksack-Problem: Kapazität 4 der Laptop-Zeile und allgemeine Regel\n",
    "\n",
    "<img src=\"./img/17.png\" width=\"23%\" align=\"right\">\n",
    "\n",
    "- wir haben eine Kapazität von 4, aber für das Laptop brauchen wir nur 3\n",
    "- bleibt noch eine Kapazität von 1 übrig (die wir für die vorerigen Objekte nutzen können)\n",
    "- **aus der vorherigen Zeile kennen wir die optimale Lösung!**\n",
    "  - aus Zelle (Stereo-Anlage, 1) wissen wir, dass wir dort die Gitarre einpacken sollten\n",
    "- dies ist besser als die bisher bekannte Lösung für die Kapazität 4 (3000 € für die Stereoanlage"
   ]
  },
  {
   "cell_type": "markdown",
   "metadata": {
    "slideshow": {
     "slide_type": "fragment"
    }
   },
   "source": [
    "#### Etwas genauere Beschreibung der Berechnungslogik:\n",
    "- die Lösung **ohne** den aktuellen Gegenstand (Laptop) (vorherige Zeile, genau über der aktuellen Zelle) \n",
    "  - hier: 3000 € (Stereroanlage)\n",
    "- mit der Lösung **mit** dem aktuellen Gegenstand **und** der optimalen Lösung aus der vorherigen Zeile **für die verbleibende Kapazität**\n",
    "  - hier: Laptop, Gewicht 3, Wert 2000 € zusammen: $\\rightarrow$ Restkapazität 1\n",
    "  - $\\rightarrow$ Wert in der vorherigen Zeile für Kapazität 1: 1500 € (Gitarre)\n",
    "  - macht zusammen 3500 €!\n"
   ]
  },
  {
   "cell_type": "markdown",
   "metadata": {
    "slideshow": {
     "slide_type": "fragment"
    }
   },
   "source": [
    "<img src=\"./img/18.png\" width=\"60%\" align=\"right\">\n",
    "\n",
    "#### Noch etwas präziser:\n",
    "\n",
    "\n",
    "**Beachte:** Diese Logik können wir für jede Zelle anwenden (auch wenn wir das nicht immer explizit gemacht haben!"
   ]
  },
  {
   "cell_type": "markdown",
   "metadata": {
    "slideshow": {
     "slide_type": "slide"
    }
   },
   "source": [
    "## DP für das Rucksack-Problem: Die Lösung\n",
    "\n",
    "#### Die Lösung setzt sich aus zwei Teillösungen (Teil-Rucksäcken) zusammen\n",
    "\n",
    "<img src=\"./img/19.png\" width=\"23%\" align=\"left\">\n",
    "<img src=\"./img/17.png\" width=\"23%\" align=\"right\">\n",
    "\n",
    "Ein wesentliches Prinzip bei der Dynamischen Programmierung ist die Zusammensetzung von Lösungen aus optimalen Teillösungen\n",
    "- insbesondere werden bereits gefundene Lösungen für ein Teilproblem **gespeichert** , um sie nicht mehrfach berechnen zu müssen\n",
    "  - dies nennt man auch Memoisierung, eng. *memoization* \n",
    "  - hierzu nutzt man je nach Problem entweder Arrays oder Hash-Tabellen\n",
    "  - in unserem Beispiel würde man ein zwei-dimensionales Array verwenden\n",
    "  \n",
    "  "
   ]
  },
  {
   "cell_type": "markdown",
   "metadata": {
    "slideshow": {
     "slide_type": "fragment"
    }
   },
   "source": [
    "#### In unserem Beispiel:\n",
    "- haben wir z.B. den optimalen Wert für das Teilproblem (Stereoanlage und Gitarre, Kapazität 1) einmal berechnet und rufen es beim Berechnen der Zelle (Laptop, 4) nur ab!\n"
   ]
  },
  {
   "cell_type": "markdown",
   "metadata": {
    "slideshow": {
     "slide_type": "slide"
    }
   },
   "source": [
    "## DP für das Rucksack-Problem: Ein weiterer Gegenstand\n",
    "\n",
    "<img src=\"./img/20.png\" width=\"10%\" align=\"right\">\n",
    "\n",
    "Nehmen wir nun an, du könntest auch ein iPhone mitnehmen\n",
    "- das iPhone hat ein Gewicht von 1 und einen Wert von 2000 €"
   ]
  },
  {
   "cell_type": "markdown",
   "metadata": {
    "slideshow": {
     "slide_type": "fragment"
    }
   },
   "source": [
    "<img src=\"./img/22.png\" width=\"35%\" align=\"right\">\n",
    "\n",
    "><div class=\"alert alert-block alert-info\">\n",
    "<b> Fülle die Zeile für das iPhone! Was ist nun die optimale Lösung?</b></div>\n",
    "\n",
    "<img src=\"./img/18.png\" width=\"50%\" align=\"left\">"
   ]
  },
  {
   "cell_type": "markdown",
   "metadata": {
    "slideshow": {
     "slide_type": "slide"
    }
   },
   "source": [
    "# 3. Verständnisfragen zum Algorithmus\n"
   ]
  },
  {
   "cell_type": "markdown",
   "metadata": {
    "slideshow": {
     "slide_type": "slide"
    }
   },
   "source": [
    "## Was passiert, wenn wir die Reihenfolge der Gegenstände ändern?\n",
    "\n",
    "\n",
    "><div class=\"alert alert-block alert-info\">\n",
    "<b> Hängt die Lösung von der Reihenfolge der Gegenstände ab? </b></div>\n",
    "\n",
    "\n",
    "#### Nein, das Vorgehen funktioniert für alle möglichen Reihenfolgen!\n",
    "\n",
    "><div class=\"alert alert-block alert-info\">\n",
    "<b> Probieren Sie doch mal folgende Reihenfolge aus: </b> <br>\n",
    "> - Stereoanlage <br>\n",
    "> - Laptop <br>\n",
    "> - Gitarre \n",
    "</div>\n"
   ]
  },
  {
   "cell_type": "markdown",
   "metadata": {
    "slideshow": {
     "slide_type": "slide"
    }
   },
   "source": [
    "## Können die Werte von oben nach unten abnehmen?\n",
    "\n",
    "\n",
    "<img src=\"./img/26.png\" width=\"35%\" align=\"right\">\n",
    "\n",
    "><div class=\"alert alert-block alert-info\">\n",
    "<b> Ist es möglich, dass innerhalb einer Spalte die Werte von oben nach unten sinken?</b></div>"
   ]
  },
  {
   "cell_type": "markdown",
   "metadata": {
    "slideshow": {
     "slide_type": "fragment"
    }
   },
   "source": [
    "\n",
    "<img src=\"./img/18.png\" width=\"50%\" align=\"right\">\n",
    "\n",
    "#### Nein, denn es wird ja immer das Maximum aus\n",
    "- Vorgängerzelle in der vorherigen Zeile\n",
    "- und dem Wert des aktuellen Gegenstands + Wert der verbleibenden Kapazität gewählt\n",
    "\n",
    "... der Wert ist also immer mindestens so goß wie in der Vorgängerzelle!\n"
   ]
  },
  {
   "cell_type": "markdown",
   "metadata": {
    "slideshow": {
     "slide_type": "slide"
    }
   },
   "source": [
    "## Ganzzahligkeit der Gewichte\n",
    "\n",
    "><div class=\"alert alert-block alert-info\">\n",
    "<b> Funktioniert der Ansatz ausschließlich bei ganzzahligen Gewichten? </b></div>"
   ]
  },
  {
   "cell_type": "markdown",
   "metadata": {
    "slideshow": {
     "slide_type": "fragment"
    }
   },
   "source": [
    "### Nein! Es können auch gebrochene Gewichte vorkommen\n",
    "\n",
    "..dann macht man das Gitter eben etwas feiner:\n",
    "\n",
    "<img src=\"./img/28.png\" width=\"35%\" align=\"center\">\n",
    "\n",
    "..das Problem: das Gitter muss unter Umständen **sehr fein** werden"
   ]
  },
  {
   "cell_type": "markdown",
   "metadata": {
    "slideshow": {
     "slide_type": "slide"
    }
   },
   "source": [
    "## Gewichte mit kontiuierlichen / stetigen Werten\n",
    "\n",
    "><div class=\"alert alert-block alert-info\">\n",
    "<b> Was passiert wenn man beliebig teilbare Dinge hat (z.B. Pulver, Flüssigkeiten)? </b></div>\n",
    "\n",
    "<img src=\"./img/29.png\" width=\"35%\" align=\"center\">"
   ]
  },
  {
   "cell_type": "markdown",
   "metadata": {
    "slideshow": {
     "slide_type": "fragment"
    }
   },
   "source": [
    "\n",
    "<img src=\"./img/30.png\" width=\"15%\" align=\"right\">\n",
    "\n",
    "#### Das Problem wird trivial!\n",
    "- man füllt einfach den Rucksack mit der wertvollsten Ladung\n",
    "- wenn davon nicht genug da ist, macht man entsprechend mit der zweitwertvollsten Ladung weiter\n",
    "\n"
   ]
  },
  {
   "cell_type": "markdown",
   "metadata": {
    "slideshow": {
     "slide_type": "slide"
    }
   },
   "source": [
    "## Muss der Rucksack immer vollständig gefüllt sein?\n",
    "\n",
    "><div class=\"alert alert-block alert-info\">\n",
    "<b> Ist es immer der Fall, dass der Rucksack vollständig gefüllt werden muss? </b></div>"
   ]
  },
  {
   "cell_type": "markdown",
   "metadata": {
    "slideshow": {
     "slide_type": "fragment"
    }
   },
   "source": [
    "<img src=\"./img/36.png\" width=\"15%\" align=\"right\">\n",
    "\n",
    "### Nein!\n",
    "\n",
    "Einfaches Gegenbeispiel:\n",
    "- wir betrachten unser Ausgangsbeispiel (Kapazität 4)\n",
    "- und wir nehmen an, wir können nun noch einen wertvollen Diamanten mitnehmen:\n",
    "  - Wert: 1 Million €, Gewicht: 3,5 \n",
    "- die optimale Lösung wäre es, nur den Diamanten mitzunehmen\n",
    "- es gibt keinen weiteren Gegenstand, der in die Restkapazität von 0,5 passen würde"
   ]
  },
  {
   "cell_type": "markdown",
   "metadata": {
    "slideshow": {
     "slide_type": "slide"
    }
   },
   "source": [
    "## Kombination von Teillösungen\n",
    "\n",
    "\n",
    "\n",
    "\n",
    "><div class=\"alert alert-block alert-info\">\n",
    "<b> Ist es nicht einschränkend, immer nur 2 Teillösungen  zu kombinieren? </b></div>"
   ]
  },
  {
   "cell_type": "markdown",
   "metadata": {
    "slideshow": {
     "slide_type": "fragment"
    }
   },
   "source": [
    "<img src=\"./img/35.png\" width=\"25%\" align=\"right\">\n",
    "\n",
    "#### Nein, denn:\n",
    "- Kombinationen von mehr als 2 Teillösungen lassen sich als mehrfache Kombination zweier Teillösungen darstellen\n",
    "- Beispiel siehe rechts, das lässt sich beliebig weiter verschachteln\n",
    "\n"
   ]
  },
  {
   "cell_type": "markdown",
   "metadata": {
    "slideshow": {
     "slide_type": "slide"
    }
   },
   "source": [
    "## Wie steht es um die Lauzfzeitkomplexität?\n",
    "\n",
    "><div class=\"alert alert-block alert-info\">\n",
    "<b> Wie können wir die Laufzeit charakterisieren? Ist das Problem wirklich NP-schwer?</b></div>"
   ]
  },
  {
   "cell_type": "markdown",
   "metadata": {
    "slideshow": {
     "slide_type": "fragment"
    }
   },
   "source": [
    "- die Laufzeit ist $n \\cdot W$, wobei \n",
    "  - $n$ die Anzahl der Gegenstände bezeichnet und\n",
    "  - $W$ die Anzahl der Spalten für das Gewicht"
   ]
  },
  {
   "cell_type": "markdown",
   "metadata": {
    "slideshow": {
     "slide_type": "fragment"
    }
   },
   "source": [
    "- dies ist zwar eine polynomielle Funktion, aber in Bezug auf den Wert des Gewichts, nicht in Bezug die Problemgröße in Bezug auf die Elemente des Problems\n",
    "- das Rucksackproblem ist trotzdem NP-schwer\n",
    "- aber man nennt dieses Laufzeitverhalten **pseudo-polynomiell**"
   ]
  },
  {
   "cell_type": "markdown",
   "metadata": {
    "slideshow": {
     "slide_type": "slide"
    }
   },
   "source": [
    "## Zusammenfassung\n",
    "\n",
    "#### Dynamische Programmierung\n",
    "- ist ein allgemeines algorithmisches Prinzip zur exakten Lösung von (Optimierungs-)Problemen\n",
    "  - beruht auf den Prinzipien von **überlappenden Teilproblemen** und **optimalen Substrukturen**\n",
    "- insbesondere werden Lösungen für Teilprobleme nur einmal berechnet, aber in der Regel häufig genutzt\n",
    "\n",
    "\n",
    "- wir haben mit dem Rucksack-Problem ein nichttriviales Beispiel für \n",
    "  - den Bottom-Ansatz der Dynamischen Programmierung  (beginne mit den kleinsten Teilproblemen) \n",
    "  - und  insbesondere die Nutzung einer Tabellenstruktur für die Berechnung gesehen\n",
    "- es gibt allerdings noch eine Reihe von weiteren DP-Ansätzen, auch  für das Rucksackproblem\n",
    "  - siehe z.B. das Buch: **Knapsack Problems** von Hans Kellerer, Ulrich Pferschy und David Pisinger"
   ]
  },
  {
   "cell_type": "markdown",
   "metadata": {
    "slideshow": {
     "slide_type": "fragment"
    }
   },
   "source": [
    "### Beim nächsten Mal:\n",
    "- betrachten wir noch einen anderen DP-Ansatz für das Rucksackproblem\n",
    "- betrachten wir DP-Ansätze für weitere Beispielprobleme\n",
    "- vergleichen wir die Dynamische Programmierung mit anderen Ansätzen, die wir kennengelernt haben"
   ]
  }
 ],
 "metadata": {
  "celltoolbar": "Slideshow",
  "kernelspec": {
   "display_name": "Python 3",
   "language": "python",
   "name": "python3"
  },
  "language_info": {
   "codemirror_mode": {
    "name": "ipython",
    "version": 3
   },
   "file_extension": ".py",
   "mimetype": "text/x-python",
   "name": "python",
   "nbconvert_exporter": "python",
   "pygments_lexer": "ipython3",
   "version": "3.7.10"
  },
  "rise": {
   "enable_chalkboard": true
  },
  "toc": {
   "base_numbering": 1,
   "nav_menu": {},
   "number_sections": false,
   "sideBar": true,
   "skip_h1_title": false,
   "title_cell": "Table of Contents",
   "title_sidebar": "Contents",
   "toc_cell": false,
   "toc_position": {},
   "toc_section_display": true,
   "toc_window_display": false
  },
  "varInspector": {
   "cols": {
    "lenName": 16,
    "lenType": 16,
    "lenVar": 40
   },
   "kernels_config": {
    "python": {
     "delete_cmd_postfix": "",
     "delete_cmd_prefix": "del ",
     "library": "var_list.py",
     "varRefreshCmd": "print(var_dic_list())"
    },
    "r": {
     "delete_cmd_postfix": ") ",
     "delete_cmd_prefix": "rm(",
     "library": "var_list.r",
     "varRefreshCmd": "cat(var_dic_list()) "
    }
   },
   "types_to_exclude": [
    "module",
    "function",
    "builtin_function_or_method",
    "instance",
    "_Feature"
   ],
   "window_display": false
  }
 },
 "nbformat": 4,
 "nbformat_minor": 2
}
