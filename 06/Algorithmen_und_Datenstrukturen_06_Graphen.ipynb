{
 "cells": [
  {
   "cell_type": "markdown",
   "metadata": {
    "slideshow": {
     "slide_type": "slide"
    }
   },
   "source": [
    "<img src=\"./img/logo_wiwi.png\" width=\"23%\" align=\"left\">\n",
    "<img src=\"./img/decision_analytics_logo.png\" width=\"17%\" align=\"right\">\n",
    "\n",
    "<br><br><br><br>\n",
    "\n",
    "\n",
    "## Algorithmen und Datenstrukturen\n",
    "Wintersemester 2021/22\n",
    "\n",
    "\n",
    "# 6 Graphen und Breitensuche\n",
    "\n",
    "\n",
    "<br><br><br>\n",
    "J-Prof. Dr. Michael Römer, Till Porrmann "
   ]
  },
  {
   "cell_type": "markdown",
   "metadata": {
    "slideshow": {
     "slide_type": "slide"
    }
   },
   "source": [
    "# 1. Motivation"
   ]
  },
  {
   "cell_type": "markdown",
   "metadata": {
    "slideshow": {
     "slide_type": "slide"
    }
   },
   "source": [
    "## Motivation: Von Twin Peaks zur Golden Gate Bridge\n",
    "\n",
    "- wir stellen uns vor, dass wir uns bei **Twin Peaks** in San Francisco sind \n",
    "- wir möchten **mit öffentlichen Verkehrsmitteln** zur **Golden Gate Bridge**\n",
    "- und dabei **möglichst wenig umsteigen**\n",
    "\n",
    "So sehen mögliche Fahrten aus:\n",
    "\n",
    "<img src=\"./img/01_graph.png\" width=\"70%\" align=\"middle\">\n",
    "\n",
    "\n",
    "><div class=\"alert alert-block alert-info\">\n",
    "<b>Wie können wir vorgehen, um den Weg mit den wenigsten Schritten / Umstiegen zu finden?</b></div>"
   ]
  },
  {
   "cell_type": "markdown",
   "metadata": {
    "slideshow": {
     "slide_type": "slide"
    }
   },
   "source": [
    "## Motivation: Von Twin Peaks zur Golden Gate Bridge\n",
    "\n",
    "Können wir das Ziel in **einem** Schritt erreichen?\n",
    "<img src=\"./img/02_schritt1.png\" width=\"50%\" align=\"middle\">\n"
   ]
  },
  {
   "cell_type": "markdown",
   "metadata": {
    "slideshow": {
     "slide_type": "fragment"
    }
   },
   "source": [
    "\n",
    "Offenbar nein. Reichen **zwei** Schritte?\n",
    "<img src=\"./img/03_schritt2.png\" width=\"50%\" align=\"middle\">"
   ]
  },
  {
   "cell_type": "markdown",
   "metadata": {
    "slideshow": {
     "slide_type": "slide"
    }
   },
   "source": [
    "## Motivation: Von Twin Peaks zur Golden Gate Bridge\n",
    "\n",
    "Wieder nicht. Reichen **drei** Schritte?\n",
    "<img src=\"./img/04_schritt3.png\" width=\"50%\" align=\"middle\">\n"
   ]
  },
  {
   "cell_type": "markdown",
   "metadata": {
    "slideshow": {
     "slide_type": "fragment"
    }
   },
   "source": [
    "Ja! ...so sieht dann die gesamte Strecke aus:\n",
    "\n",
    "<img src=\"./img/05_alle_schritte.png\" width=\"50%\" align=\"middle\">"
   ]
  },
  {
   "cell_type": "markdown",
   "metadata": {
    "slideshow": {
     "slide_type": "slide"
    }
   },
   "source": [
    "## Motivation: Von Twin Peaks zur Golden Gate Bridge\n",
    "\n",
    "- unser Beispiel stellt ein vereinfachtes **Shortest Path** (kürzeste Wege)-Problem dar\n",
    "- unser Vorgehen entspricht dem Prinzip der **Breitensuche**\n",
    "- die Darstellung von Start, Ziel, Streckenabschnitten und Umsteigemöglichkeiten entspricht einem **Graphen**"
   ]
  },
  {
   "cell_type": "markdown",
   "metadata": {
    "slideshow": {
     "slide_type": "fragment"
    }
   },
   "source": [
    ".. dies sind die **Kernthemen der heutigen Veranstaltung!**"
   ]
  },
  {
   "cell_type": "markdown",
   "metadata": {
    "slideshow": {
     "slide_type": "slide"
    }
   },
   "source": [
    "## Überblick über die heutige Veranstaltung\n",
    "\n",
    "1. Motivation\n",
    "2. Graphen\n",
    "3. Breitensuche\n",
    "4. Implementierung von Graphen\n",
    "5. Implementierung der Breitensuche\n",
    "6. Laufzeit der Breitensuche\n",
    "7. Zusammenfassung"
   ]
  },
  {
   "cell_type": "markdown",
   "metadata": {
    "slideshow": {
     "slide_type": "slide"
    }
   },
   "source": [
    "# 2. Graphen"
   ]
  },
  {
   "cell_type": "markdown",
   "metadata": {
    "slideshow": {
     "slide_type": "slide"
    }
   },
   "source": [
    "## Was ist ein Graph?\n",
    "\n",
    "\n",
    "\n",
    "Typischerweise bilden die Graphen **Verbindungen** oder **Beziehungen** zwischen **Elementen** (Knoten ab)\n",
    "\n",
    "#### Beispiel: Alex schuldet Rick Geld beim Pokern \n",
    "<img src=\"./img/06_schulden1.png\" width=\"30%\" align=\"middle\">\n"
   ]
  },
  {
   "cell_type": "markdown",
   "metadata": {
    "slideshow": {
     "slide_type": "fragment"
    }
   },
   "source": [
    "#### Intessanter wird es natürlich, wenn es mehrere Beziehungen gibt:\n",
    "<img src=\"./img/07_schulden2.png\" width=\"40%\" align=\"middle\">"
   ]
  },
  {
   "cell_type": "markdown",
   "metadata": {
    "slideshow": {
     "slide_type": "slide"
    }
   },
   "source": [
    "## Was ist ein Graph?\n",
    "\n",
    "Ein Graph besteht aus\n",
    "- einer Menge von Knoten \n",
    "- einer Menge von Kanten\n",
    "\n",
    "<img src=\"./img/08_knoten_kanten.png\" width=\"40%\" align=\"middle\">\n",
    "\n",
    "Ein Knoten, der direkt über eine Kante erreichbar sind, wird auch **Nachbar** oder **Nachfolger** genannt"
   ]
  },
  {
   "cell_type": "markdown",
   "metadata": {
    "slideshow": {
     "slide_type": "slide"
    }
   },
   "source": [
    "## Gerichtete und ungerichtete Graphen\n",
    "\n",
    "Wir unterscheiden\n",
    "- **gerichtete Graphen**, in dem in dem die Kanten nur in einer Richtung durchlaufen werden kann bzw. die Beziehung / Verbindung nur in einer Richtung relevant ist \n",
    "  - Richtung wird üblicherweise mit Pfeilspitzen gekennzeichnet\n",
    "  - bei den Nachbarknoten spricht man dann auch von **Nachfolgern** und **Vorgängern**\n",
    "  - das Schulden-Beispiel\n",
    "- **ungerichtetete Graphen**, in denen die Beziehung symmetrisch ist, d.h. in denen die Richtung keine Rolle spielt\n",
    "  - Bsp: ein Graph, der Freundschaftsbeziehungen in einem sozialen Netzwerk abbildet\n",
    "\n",
    "<img src=\"./img/19_gerichtet_ungerichtet.png\" width=\"50%\" align=\"middle\">"
   ]
  },
  {
   "cell_type": "markdown",
   "metadata": {
    "slideshow": {
     "slide_type": "slide"
    }
   },
   "source": [
    "# 3. Breitensuche\n",
    "\n"
   ]
  },
  {
   "cell_type": "markdown",
   "metadata": {
    "slideshow": {
     "slide_type": "slide"
    }
   },
   "source": [
    "## Suche in Graphen mittels Breitensuche\n",
    "Bisher haben wir unter Suche die **Suche nach Werten in einer Liste** verstanden, z.B. mittels \n",
    "- linearer Suche\n",
    "- binärer Suche\n",
    "\n",
    "- Nun beschäftigen wir uns mit der **Suche in Graphen**, inbesondere mit **der Suche nach Pfaden in Graphen**, insbesondere mit Fragen wie\n",
    "  1. Existiert ein Pfad von Knoten A nach Knoten B?\n",
    "  2. Welcher Pfad von A nach B ist der kürzeste?"
   ]
  },
  {
   "cell_type": "markdown",
   "metadata": {
    "slideshow": {
     "slide_type": "fragment"
    }
   },
   "source": [
    "Hierzu nutzen wir das Prinzip der **Breitensuche**,\n",
    "- das wir im Motivationsbeispiel schon kurz kennengelernt haben und\n",
    "- nun etwas genauer betrachten werden"
   ]
  },
  {
   "cell_type": "markdown",
   "metadata": {
    "slideshow": {
     "slide_type": "slide"
    }
   },
   "source": [
    "## Ein neues Beispiel: Die Suche nach einem Mango-Verkäufer\n",
    "\n"
   ]
  },
  {
   "cell_type": "markdown",
   "metadata": {
    "cell_style": "split",
    "hide_input": true,
    "slideshow": {
     "slide_type": "-"
    }
   },
   "source": [
    "\n",
    "- wir nehmen an, du **besitzt eine Mango-Plantage**\n",
    "- um die Mangos zu verkaufen, **suchst du einen Mango-Händler**\n",
    "- du versuchst, dein Facebook-Netzwerk für diese Suche zu nutzen\n",
    "- du beginnst damit, deine direkten Freunde zu checken:\n",
    "\n",
    " <center>   \n",
    "<img src=\"./img/09_personen.png\" width=\"55%\" align=\"center\">\n",
    "</center>"
   ]
  },
  {
   "cell_type": "markdown",
   "metadata": {
    "cell_style": "split",
    "slideshow": {
     "slide_type": "fragment"
    }
   },
   "source": [
    "- dazu erstellst du zunächst eine Liste deiner Freunde:\n",
    "\n",
    "\n",
    " <center>   \n",
    "<img src=\"./img/10_liste.png\" width=\"40%\" align>\n",
    "    </center>\n",
    "    \n",
    "- aus Graphen-Sicht entspricht das genau der Liste deiner Nachbarn (bzw. Nachfolger, wenn wir den Graph als gerichtet betrachten)"
   ]
  },
  {
   "cell_type": "markdown",
   "metadata": {
    "slideshow": {
     "slide_type": "slide"
    }
   },
   "source": [
    "## Ein neues Beispiel: Die Suche nach einem Mango-Verkäufer\n",
    "\n",
    "- nun gehst du die Liste durch: Gibt es einen Mangoverkäufer?\n",
    "<center><img src=\"./img/11_ablauf.png\" width=\"70%\" align=\"middle\"></center>"
   ]
  },
  {
   "cell_type": "markdown",
   "metadata": {
    "slideshow": {
     "slide_type": "fragment"
    }
   },
   "source": [
    "- es stellt sich heraus, dass keiner deiner Freunde Mangos verkauft"
   ]
  },
  {
   "cell_type": "markdown",
   "metadata": {
    "slideshow": {
     "slide_type": "slide"
    }
   },
   "source": [
    "## Ein neues Beispiel: Die Suche nach einem Mango-Verkäufer\n",
    "\n",
    "- versuchen wir es also mit den **Freunden deiner Freunde:**\n",
    "\n",
    "<center><img src=\"./img/12_personen_groß.png\" width=\"50%\" align=\"middle\"></center>"
   ]
  },
  {
   "cell_type": "markdown",
   "metadata": {
    "slideshow": {
     "slide_type": "slide"
    }
   },
   "source": [
    "## Ein neues Beispiel: Die Suche nach einem Mango-Verkäufer\n",
    "\n",
    "><div class=\"alert alert-block alert-info\">\n",
    "<b>Wie können wir das Durchsuchen der Freunde der Freunde in den Algorithmus einbauen?</b></div>\n"
   ]
  },
  {
   "cell_type": "markdown",
   "metadata": {
    "slideshow": {
     "slide_type": "fragment"
    }
   },
   "source": [
    "$\\rightarrow$ indem wir für den Fall, dass ein\\*e Freund\\*in keine Mangos verkauft, deren Freunde in die Liste der zu durchsuchenden Personen aufnehmen!\n",
    "<img src=\"./img/13_ablauf_alle.png\" width=\"70%\" align=\"middle\">"
   ]
  },
  {
   "cell_type": "markdown",
   "metadata": {
    "slideshow": {
     "slide_type": "fragment"
    }
   },
   "source": [
    "- wenn diese Liste nun nach dem **First-in-First-Out (FIFO)**-Prinzip abgearbeitet wird,\n",
    "- handelt es sich um eine **Breitensuche** im Graph / Netzwerk deiner Freunde\n",
    "- Beachte: Auf diese Weise wird das gesamte Netzwerk durchsucht!"
   ]
  },
  {
   "cell_type": "markdown",
   "metadata": {
    "slideshow": {
     "slide_type": "slide"
    }
   },
   "source": [
    "## Breitensuche: Vereinfachter Algorithmus\n",
    "\n",
    "- wie können wir das Durchsuchen der Freunde der Freunde in den Algorithmus einbauen?"
   ]
  },
  {
   "cell_type": "markdown",
   "metadata": {
    "slideshow": {
     "slide_type": "slide"
    }
   },
   "source": [
    "## Breitensuche und Kürzeste Wege\n",
    "\n",
    "Wenn möglich, möchtest du den Händler nehmen, der dir **am Nächsten** ist (den du über möglichst wenige Schritte kennst)\n",
    "\n",
    "><div class=\"alert alert-block alert-info\">\n",
    "<b>Wie kann die Breitensuche hierfür genutzt werden?</b></div>\n"
   ]
  },
  {
   "cell_type": "markdown",
   "metadata": {
    "cell_style": "split",
    "slideshow": {
     "slide_type": "fragment"
    }
   },
   "source": [
    "..interessanterweise passiert dies automatisch:\n",
    "\n",
    "<img src=\"./img/14_graph_verbindungen.png\" width=\"100%\" align=\"middle\">\n",
    "\n",
    "\n"
   ]
  },
  {
   "cell_type": "markdown",
   "metadata": {
    "cell_style": "split",
    "slideshow": {
     "slide_type": "fragment"
    }
   },
   "source": [
    "..die Breitensuche erfolgt steigend im Sinne des Nachbarschaftsgrades!\n",
    "\n",
    "<center>\n",
    "<img src=\"./img/15_liste_verbindungen.png\" width=\"30%\" align=\"middle\"> </center>\n",
    "\n",
    "\n",
    "#### Beachte jedoch:\n",
    "Die Breitensuche findet zwar den wenigsten Schritten zuerst, dies ist jedoch nicht automatisch der kürzeste Weg, wenn die Kanten unterschiedliche Längen haben!"
   ]
  },
  {
   "cell_type": "markdown",
   "metadata": {
    "slideshow": {
     "slide_type": "slide"
    }
   },
   "source": [
    "## Breitensuche und \"Warteschlangen\"\n",
    "\n",
    "Ein Kernelement der Breitensuche ist, dass die Knoten nach den **First-In-First-Out (FIFO)**-Prinzip abgearbeitet werden:\n",
    "- der Knoten (im Beispiel: eine Person), der als erstes \"gesehen\" / \"entdeckt\" wurde, wird als erstes bearbeitet (gefragt, ob Mango-Verkäufer / gefragt nach weiteren Kontakten)\n",
    "- auf diese Art funktionieren auch **Warteschlangen** (z.B. im Testzentrum)\n",
    "\n",
    "<img src=\"./img/16_warteschlange.png\" width=\"50%\" align=\"middle\">\n",
    "\n",
    "\n",
    "><div class=\"alert alert-block alert-info\">\n",
    "<b>Es gibt auch eine Datenstruktur, die sich Warteschlange nennt. Welche Python-Datenstruktur, die Sie bereits kennen, würde sich eignen?</b></div>"
   ]
  },
  {
   "cell_type": "markdown",
   "metadata": {
    "slideshow": {
     "slide_type": "slide"
    }
   },
   "source": [
    "## Abbildung der Warteschlange in Python\n",
    "- Warteschlangen arbeiten nach dem FIFO-Prinzip\n",
    "- hierzu können wir die Datenstruktur `deque` (double-ended queue), die wir bereits aus Teil 2 kennen, nutzen\n",
    "  - anhängen am Ende mittels `+=`\n",
    "  - das erste Element herausnehmen mittels `popleft`\n",
    "  \n"
   ]
  },
  {
   "cell_type": "code",
   "execution_count": 59,
   "metadata": {
    "slideshow": {
     "slide_type": "-"
    }
   },
   "outputs": [],
   "source": [
    "from collections import deque \n",
    "\n",
    "search_queue = deque()\n",
    "search_queue += graph[\"Du\"]\n",
    "search_queue += graph[\"Alice\"]"
   ]
  },
  {
   "cell_type": "code",
   "execution_count": 57,
   "metadata": {
    "slideshow": {
     "slide_type": "-"
    }
   },
   "outputs": [
    {
     "data": {
      "text/plain": [
       "'Bob'"
      ]
     },
     "execution_count": 57,
     "metadata": {},
     "output_type": "execute_result"
    }
   ],
   "source": [
    "search_queue.popleft()"
   ]
  },
  {
   "cell_type": "code",
   "execution_count": 58,
   "metadata": {
    "slideshow": {
     "slide_type": "-"
    }
   },
   "outputs": [
    {
     "data": {
      "text/plain": [
       "deque(['Claire', 'Peggy'])"
      ]
     },
     "execution_count": 58,
     "metadata": {},
     "output_type": "execute_result"
    }
   ],
   "source": [
    "search_queue"
   ]
  },
  {
   "cell_type": "markdown",
   "metadata": {
    "slideshow": {
     "slide_type": "slide"
    }
   },
   "source": [
    "## FIFO und LIFO\n",
    "\n",
    "- es gibt auch die Schlangediszipling LIFO (last in,  last out):\n",
    "\n",
    "<img src=\"./img/17_fifo_lifo.png\" width=\"50%\" align=\"middle\">\n",
    "\n",
    "><div class=\"alert alert-block alert-info\">\n",
    "<b>Welche Datenstruktur ist geeignet, um eine LIFO-Abarbeitung abzubilden?</b></div>"
   ]
  },
  {
   "cell_type": "markdown",
   "metadata": {
    "slideshow": {
     "slide_type": "slide"
    }
   },
   "source": [
    "# 4. Implementierung von Graphen"
   ]
  },
  {
   "cell_type": "markdown",
   "metadata": {
    "slideshow": {
     "slide_type": "slide"
    }
   },
   "source": [
    "## Eine einfache Implementierung von (gerichteten) Graphen\n",
    "\n",
    "- Graphen bilden Beziehungen zwischen Objekten / Elementen / Knoten ab\n",
    "- es liegt nahe, eine Datenstruktur zu verwenden, die dies effizient kann: **die Hash-Tabelle**\n",
    "\n",
    "### Kernidee dieser Implementierung:\n",
    "- Graph als Hash-Tabelle, in der das Schlüssel-Wert-Paar wie folgt gebildet wird:\n",
    "  - **Schlüssel:** Objekt / Knoten\n",
    "  - **Wert:** Liste / Array mit Nachbarknoten / Nachfolgern\n",
    "  "
   ]
  },
  {
   "cell_type": "markdown",
   "metadata": {
    "cell_style": "split",
    "slideshow": {
     "slide_type": "fragment"
    }
   },
   "source": [
    "  \n",
    "### Beispiel:\n",
    "\n",
    "<img src=\"./img/09_personen.png\" width=\"50%\" align=\"middle\">"
   ]
  },
  {
   "cell_type": "code",
   "execution_count": 63,
   "metadata": {
    "cell_style": "split",
    "slideshow": {
     "slide_type": "-"
    }
   },
   "outputs": [],
   "source": [
    "graph = {}  # Erstellung der Hash-Tabelle\n",
    "\n",
    "graph[\"Du\"] = [\"Alice\", \"Bob\", \"Claire\"] # zentraler Knoten und Kanten auf die Nachfolger\n",
    "\n",
    "# die anderen haben in diesem Ausschnitt keinen Nachfolger\n",
    "graph[\"Alice\"] = [] \n",
    "graph[\"Bob\"] = []\n",
    "graph[\"Claire\"] = []"
   ]
  },
  {
   "cell_type": "markdown",
   "metadata": {
    "slideshow": {
     "slide_type": "slide"
    }
   },
   "source": [
    "## Der gesamte Graph\n",
    "<img src=\"./img/12_personen_groß.png\" width=\"35%\" align=\"middle\">"
   ]
  },
  {
   "cell_type": "code",
   "execution_count": 55,
   "metadata": {
    "slideshow": {
     "slide_type": "-"
    }
   },
   "outputs": [
    {
     "data": {
      "text/plain": [
       "{'Du': ['Alice', 'Bob', 'Claire'],\n",
       " 'Bob': ['Anuj', 'Peggy'],\n",
       " 'Alice': ['Peggy'],\n",
       " 'Claire': ['Tom', 'Jonny'],\n",
       " 'Anuj': [],\n",
       " 'Peggy': [],\n",
       " 'Tom': [],\n",
       " 'Jonny': []}"
      ]
     },
     "execution_count": 55,
     "metadata": {},
     "output_type": "execute_result"
    }
   ],
   "source": [
    "graph = {}\n",
    "graph[\"Du\"] = [\"Alice\", \"Bob\", \"Claire\"]\n",
    "graph[\"Bob\"] = [\"Anuj\", \"Peggy\"]\n",
    "graph[\"Alice\"] = [\"Peggy\"]\n",
    "graph[\"Claire\"] = [\"Tom\", \"Jonny\"]\n",
    "graph[\"Anuj\"] = []\n",
    "graph[\"Peggy\"] = []\n",
    "graph[\"Tom\"] = []\n",
    "graph[\"Jonny\"] = []\n",
    "graph"
   ]
  },
  {
   "cell_type": "markdown",
   "metadata": {
    "slideshow": {
     "slide_type": "slide"
    }
   },
   "source": [
    "## Implementierung von Graphen: Allgemein\n",
    "\n",
    "- Graphen können auf verschiedene Arten implementiert werden\n",
    "- die Art und Effizienz einer Implementierung hängt ab von:\n",
    "   - der Art des Graphen:\n",
    "      - gerichtet vs ungerichtet\n",
    "      - nur eine einzige oder mehrere (parallele) Kanten zwischen Knoten möglich (Multigraphen)\n",
    "   - der Änderbarkeit des Graphen (können Knoten und Kanten gelöscht werden?)\n",
    "   - den Zugriffsarten (braucht man sowohl eine Liste der eingehenden als auch der ausgehenden Kanten eines Knotens)\n",
    "   - ...\n"
   ]
  },
  {
   "cell_type": "markdown",
   "metadata": {
    "slideshow": {
     "slide_type": "slide"
    }
   },
   "source": [
    "## Ein Python-Paket für Graphen: NetworkX\n",
    "\n",
    "Das Paket `networkx` (https://networkx.org/) bietet viele nützliche Funktionen und Strukturen für die Arbeit mit Graphen und Netzwerken\n",
    "- verschiedene Graph-Typen (gerichtete, ungerichtete, ...)\n",
    "- viele Funktionen zum erstellen, iterieren durch und analysieren von Graphen\n",
    "- Implementierungen für viele wichtige Graph-Algorithmen\n",
    "- Visualisierungsfunktionen für Graphen\n",
    "\n"
   ]
  },
  {
   "cell_type": "code",
   "execution_count": 18,
   "metadata": {
    "slideshow": {
     "slide_type": "-"
    }
   },
   "outputs": [
    {
     "name": "stdout",
     "output_type": "stream",
     "text": [
      "Anzahl  deiner Nachbarn: 3\n"
     ]
    },
    {
     "data": {
      "image/png": "[encoded data removed]",
      "text/plain": [
       "<Figure size 432x288 with 1 Axes>"
      ]
     },
     "metadata": {},
     "output_type": "display_data"
    }
   ],
   "source": [
    "import networkx as nx\n",
    "import matplotlib.pyplot as plt\n",
    "\n",
    "G = nx.DiGraph()\n",
    "G.add_nodes_from([\"Du\", \"Bob\", \"Claire\", \"Alice\"])\n",
    "G.add_edge(\"Du\",\"Bob\")\n",
    "G.add_edge(\"Du\",\"Claire\")\n",
    "G.add_edge(\"Du\",\"Alice\")\n",
    "\n",
    "print(\"Anzahl  deiner Nachbarn:\", G.out_degree(\"Du\"))\n",
    "\n",
    "nx.draw_networkx(G,node_size=800, node_color=\"lightgrey\")"
   ]
  },
  {
   "cell_type": "markdown",
   "metadata": {
    "slideshow": {
     "slide_type": "slide"
    }
   },
   "source": [
    "# 5. Implementierung der Breitensuche"
   ]
  },
  {
   "cell_type": "markdown",
   "metadata": {
    "slideshow": {
     "slide_type": "slide"
    }
   },
   "source": [
    "## Der Algorithmus im Überblick"
   ]
  },
  {
   "cell_type": "markdown",
   "metadata": {
    "cell_style": "split",
    "slideshow": {
     "slide_type": "-"
    }
   },
   "source": [
    "<img src=\"./img/20_algorithmus_gesamt.png\" width=\"95%\" align=\"middle\">"
   ]
  },
  {
   "cell_type": "code",
   "execution_count": null,
   "metadata": {
    "cell_style": "split",
    "slideshow": {
     "slide_type": "-"
    }
   },
   "outputs": [],
   "source": [
    "## Achtung: Dieser Code dient nur zur Illustration!\n",
    "\n",
    "# 1. Warteschlange mit Personen (eigentlich aus vorherigen Schritten!)\n",
    "search_queue = deque([\"Alice, Bob, Claire\"]) \n",
    "\n",
    "# Falls noch Personen in der Schlange (Pfeil nach 5.)\n",
    "while search_queue:   \n",
    "    \n",
    "   \n",
    "    #2. Der Warteschlange wird\n",
    "    person = search_queue.popleft() # das ist Alice\n",
    "    \n",
    "        \n",
    "    #3. Handelt die Person mit Mangos?    \n",
    "    if person_is_seller(person): # Funktion muss noch definiert werden!\n",
    "        \n",
    "        # 4.a Ja - fertig!\n",
    "        print (person, \" ist Mangohändler\")\n",
    "    else:\n",
    "        \n",
    "        #4.b: Alle Nachbarn hinzufügen\n",
    "        search_queue += graph[person]\n",
    "    \n",
    "    # 5. Zum Schleifenanfang\n",
    "    \n",
    "\n",
    "    \n",
    "# 6. Wenn die Schlage leer ist, gibt es keinen Händler im Netzwerk\n",
    "    \n",
    "    \n"
   ]
  },
  {
   "cell_type": "markdown",
   "metadata": {
    "slideshow": {
     "slide_type": "slide"
    }
   },
   "source": [
    "## Eine \"Dummy\"-Implementierung der Funktion `person_is_seller`\n",
    "\n",
    "- die Personen im Beispiel können wir nicht persönlich ansprechen\n",
    "\n",
    "><div class=\"alert alert-block alert-info\">\n",
    "<b>Wie könnten wir für Personen speichern, ob sie Mangverkäufer sind?</b></div>"
   ]
  },
  {
   "cell_type": "markdown",
   "metadata": {
    "slideshow": {
     "slide_type": "fragment"
    }
   },
   "source": [
    "...hier machen wir es uns ganz einfach:\n",
    "- wir nehmen an, dass nur Personen, deren Name auf `m` endet, Mangos verkaufen"
   ]
  },
  {
   "cell_type": "code",
   "execution_count": 39,
   "metadata": {
    "slideshow": {
     "slide_type": "-"
    }
   },
   "outputs": [
    {
     "name": "stdout",
     "output_type": "stream",
     "text": [
      "Tom:  True\n",
      "Bob:  False\n"
     ]
    }
   ],
   "source": [
    "def person_is_seller(person):\n",
    "    return person[-1] == 'm'\n",
    "\n",
    "print(\"Tom: \", person_is_seller(\"Tom\"))\n",
    "\n",
    "print(\"Bob: \",person_is_seller(\"Bob\"))"
   ]
  },
  {
   "cell_type": "markdown",
   "metadata": {
    "slideshow": {
     "slide_type": "slide"
    }
   },
   "source": [
    "## Ein möglicher Ablauf"
   ]
  },
  {
   "cell_type": "markdown",
   "metadata": {
    "cell_style": "center",
    "slideshow": {
     "slide_type": "-"
    }
   },
   "source": [
    "\n",
    "| Hier noch einmal der Graph: <img src=\"./img/12_personen_groß.png\" width=\"100%\" align=\"middle\"> | <img src=\"./img/21_search_queue.png\" width=\"95%\" align=\"middle\"> |\n",
    "|:-|--|\n"
   ]
  },
  {
   "cell_type": "markdown",
   "metadata": {
    "slideshow": {
     "slide_type": "slide"
    }
   },
   "source": [
    "## Vermeidung von Dopplungen / Endlosschleifen"
   ]
  },
  {
   "cell_type": "markdown",
   "metadata": {
    "cell_style": "split",
    "slideshow": {
     "slide_type": "-"
    }
   },
   "source": [
    "..in unserem Ablauf wird als nächstes Bob bearbeitet\n",
    "- er hat zwei Nachbarn (Nachfolger): Peggy und Anuj\n",
    "- Peggy wurde allerdings schon einmal der Warteschlange hinzugefügt, d.h. Peggy käme zwei mal vor:"
   ]
  },
  {
   "cell_type": "markdown",
   "metadata": {
    "cell_style": "split",
    "slideshow": {
     "slide_type": "-"
    }
   },
   "source": [
    "<img src=\"./img/22_dopplung.png\" width=\"90%\" align=\"right\">"
   ]
  },
  {
   "cell_type": "markdown",
   "metadata": {
    "slideshow": {
     "slide_type": "slide"
    }
   },
   "source": [
    "## Vermeidung von Dopplungen / Endlosschleifen"
   ]
  },
  {
   "cell_type": "markdown",
   "metadata": {
    "cell_style": "split",
    "slideshow": {
     "slide_type": "fragment"
    }
   },
   "source": [
    "Im schlimmsten Fall haben wir einen Graphen, der einen **Zyklus** hat:\n",
    "<img src=\"./img/23_beidseitig.png\" width=\"90%\" align=\"middle\">"
   ]
  },
  {
   "cell_type": "markdown",
   "metadata": {
    "cell_style": "split",
    "slideshow": {
     "slide_type": "fragment"
    }
   },
   "source": [
    "Dies würde zu einer **Endlosschleife** führen\n",
    "\n",
    "<img src=\"./img/24_endlos.png\" width=\"80%\" align=\"middle\">\n"
   ]
  },
  {
   "cell_type": "markdown",
   "metadata": {
    "slideshow": {
     "slide_type": "-"
    }
   },
   "source": [
    "><div class=\"alert alert-block alert-info\">\n",
    "<b>Wie lässt sich das doppelte Bearbeiten von Personen (Knoten) in der Breitensuche verhindern?</b></div>"
   ]
  },
  {
   "cell_type": "markdown",
   "metadata": {
    "slideshow": {
     "slide_type": "slide"
    }
   },
   "source": [
    "## Vermeidung von Dopplungen / Endlosschleifen\n",
    "\n",
    "<img src=\"./img/25_geprüft.png\" width=\"15%\" align=\"right\">\n",
    "\n",
    "Zur Vermeidung von Dopplungen sollten wir über die bereits bearbeiteten Personen / Knoten  \"Buch führen\":\n",
    "\n",
    "><div class=\"alert alert-block alert-info\">\n",
    "<b>Welche Datenstruktur bietete sich dafür an?</b></div>"
   ]
  },
  {
   "cell_type": "markdown",
   "metadata": {
    "slideshow": {
     "slide_type": "fragment"
    }
   },
   "source": [
    "- im Buch \"Algorithmen verstehen\" wird vorgeschlagen, eine Python-`list` zu verwenden\n",
    "\n",
    "><div class=\"alert alert-block alert-info\">\n",
    "<b>Halten Sie das für eine gute Idee? Wie lange dauert dabei das Einfügen / die Überprüfung?</b></div>\n"
   ]
  },
  {
   "cell_type": "markdown",
   "metadata": {
    "slideshow": {
     "slide_type": "fragment"
    }
   },
   "source": [
    "- ein besserer Ansatz wäre es, ein **set** zu verwenden!"
   ]
  },
  {
   "cell_type": "markdown",
   "metadata": {
    "slideshow": {
     "slide_type": "slide"
    }
   },
   "source": [
    "## Ein Implementierungsvorschlag\n",
    "\n",
    "Gegeben:\n",
    "- ein Graph mit Personen und Beziehungen\n",
    "- die Startperson (der Startknoten)"
   ]
  },
  {
   "cell_type": "code",
   "execution_count": 50,
   "metadata": {
    "scrolled": true,
    "slideshow": {
     "slide_type": "-"
    }
   },
   "outputs": [],
   "source": [
    "def search(graph, start_person):\n",
    "    \n",
    "    search_queue = deque( graph[start_person] ) # füge die Nachfolger der Startperson ein in die Schlange\n",
    "    searched = set( [start_person] )  # füge die Startperson ein in die bereits durchsuchen Personen\n",
    "    \n",
    "    while search_queue:  # solange noch Personen in der Schlange sind\n",
    "        person = search_queue.popleft() # nimm die erste Person aus der Schlange\n",
    "        \n",
    "        if not person in searched: # falls die Person noch nicht betrachtet wurde\n",
    "            if person_is_seller(person): # falls die Person ein Verkäufer ist, ist die Suche zu Ende\n",
    "                print(person, \"ist Mangohändler!\")\n",
    "                return True  \n",
    "            else:\n",
    "                search_queue += graph[person] # füge die Nachfolger der Person in Schlange ein\n",
    "                searched.add(person) # markiere die Person als bereits bearbeitet\n",
    "    return False # es konnte kein Verkäufer gefunden werden\n",
    "                        "
   ]
  },
  {
   "cell_type": "markdown",
   "metadata": {
    "slideshow": {
     "slide_type": "fragment"
    }
   },
   "source": [
    "Probieren wir es aus:"
   ]
  },
  {
   "cell_type": "code",
   "execution_count": 49,
   "metadata": {
    "slideshow": {
     "slide_type": "-"
    }
   },
   "outputs": [
    {
     "name": "stdout",
     "output_type": "stream",
     "text": [
      "Tom ist Mangohändler!\n"
     ]
    },
    {
     "data": {
      "text/plain": [
       "True"
      ]
     },
     "execution_count": 49,
     "metadata": {},
     "output_type": "execute_result"
    }
   ],
   "source": [
    "search(graph, \"Du\")"
   ]
  },
  {
   "cell_type": "markdown",
   "metadata": {
    "slideshow": {
     "slide_type": "slide"
    }
   },
   "source": [
    "# 6. Laufzeit der Breitensuche\n"
   ]
  },
  {
   "cell_type": "markdown",
   "metadata": {
    "slideshow": {
     "slide_type": "slide"
    }
   },
   "source": [
    "## Laufzeit der Breitensuche\n",
    "\n",
    "><div class=\"alert alert-block alert-info\">\n",
    "<b>Wie kann man die Lauzeit der Breitensuche mit Hilfe der O-Notation charakterisieren?</b></div>"
   ]
  },
  {
   "cell_type": "markdown",
   "metadata": {
    "slideshow": {
     "slide_type": "fragment"
    }
   },
   "source": [
    "- jede der Kanten im Graph wird einmal durchlaufen\n",
    "- jeder Knoten wird höchstens einmal besucht\n",
    "- die Operationen beim Besuch jedes Knotens \n",
    "\n",
    "Die Laufzeit beträgt also: O(Anzahl Knoten + Anzahl Kanten), auch O( |V| + |E| ), wobei \n",
    "- V die Menge der Knoten ist\n",
    "- E die Menge der Kanten ist\n",
    "- |S| die Kardinalität (die Anzahl der Elemente) einer Menge bezeichnet\n",
    "\n"
   ]
  },
  {
   "cell_type": "markdown",
   "metadata": {
    "slideshow": {
     "slide_type": "fragment"
    }
   },
   "source": [
    "><div class=\"alert alert-block alert-info\">\n",
    "<b>Wie ist die Komplexität bei der Implementierung der bereits besuchten Elemente mit einem Array?</b></div>"
   ]
  },
  {
   "cell_type": "markdown",
   "metadata": {
    "slideshow": {
     "slide_type": "slide"
    }
   },
   "source": [
    "## Zusammenfassung\n",
    "\n",
    "In diesem Teil der Veranstaltung haben wir zwei wichtige Konzepte kennengelernt und implementiert:\n",
    "- **Graphen** , eine Struktur aus Knoten und Kanten\n",
    "- **Breitensuche**, mit der Graphen auf eine bestimmte Art und Weise durchsucht / \"durchlaufen\" / traversiert werden können\n",
    "\n",
    "><div class=\"alert alert-block alert-info\">\n",
    "Wir haben die <b>Breitensuche</b> kennengelernt. Könnte es auch andere Arten von Suchen in Graphen geben? Wie könnten die funktionieren?</div>\n",
    "\n",
    "In der nächsten Veranstaltung beschäftigen wir uns mit dem berühmten **Algorithmus von Dijkstra** zur Suche nach kürzesten Wegen."
   ]
  }
 ],
 "metadata": {
  "celltoolbar": "Slideshow",
  "kernelspec": {
   "display_name": "Python [conda env:playground]",
   "language": "python",
   "name": "conda-env-playground-py"
  },
  "language_info": {
   "codemirror_mode": {
    "name": "ipython",
    "version": 3
   },
   "file_extension": ".py",
   "mimetype": "text/x-python",
   "name": "python",
   "nbconvert_exporter": "python",
   "pygments_lexer": "ipython3",
   "version": "3.7.10"
  },
  "rise": {
   "enable_chalkboard": true
  },
  "toc": {
   "base_numbering": 1,
   "nav_menu": {},
   "number_sections": false,
   "sideBar": true,
   "skip_h1_title": false,
   "title_cell": "Table of Contents",
   "title_sidebar": "Contents",
   "toc_cell": false,
   "toc_position": {},
   "toc_section_display": true,
   "toc_window_display": false
  },
  "varInspector": {
   "cols": {
    "lenName": 16,
    "lenType": 16,
    "lenVar": 40
   },
   "kernels_config": {
    "python": {
     "delete_cmd_postfix": "",
     "delete_cmd_prefix": "del ",
     "library": "var_list.py",
     "varRefreshCmd": "print(var_dic_list())"
    },
    "r": {
     "delete_cmd_postfix": ") ",
     "delete_cmd_prefix": "rm(",
     "library": "var_list.r",
     "varRefreshCmd": "cat(var_dic_list()) "
    }
   },
   "types_to_exclude": [
    "module",
    "function",
    "builtin_function_or_method",
    "instance",
    "_Feature"
   ],
   "window_display": false
  }
 },
 "nbformat": 4,
 "nbformat_minor": 2
}
